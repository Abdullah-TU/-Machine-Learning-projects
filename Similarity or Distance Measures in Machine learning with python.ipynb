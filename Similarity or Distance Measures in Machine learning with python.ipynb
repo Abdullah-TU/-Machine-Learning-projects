{
 "cells": [
  {
   "attachments": {},
   "cell_type": "markdown",
   "metadata": {},
   "source": [
    "# Euclidean Distance\n",
    "The Euclidean distance between two variabes is defined as\n",
    "\n",
    "
  },
  {
   "cell_type": "code",
   "execution_count": 29,
   "metadata": {},
   "outputs": [
    {
     "name": "stdout",
     "output_type": "stream",
     "text": [
      "Distance between (0, 1) and (-1, -2) with 5 decimals is 3.16228\n"
     ]
    }
   ],
   "source": [
    "def distance(p1,p2, prec =2):\n",
    "    dist=(((p1[0]-p2[0])**2)+((p1[1]-p2[1])**2))**0.5\n",
    "    print('Distance between {0} and {1} with {3} decimals is {2:.{3}f}'.format(p1, p2, dist, prec))\n",
    "\n",
    "distance((0, 1), (-1, -2), 5) "
   ]
  },
  {
   "cell_type": "markdown",
   "metadata": {},
   "source": [
    "# Manhattan Distance\n",
    "\n",
    "The distance between two points measured along axes at right angles. In a plane with p1 at (x1, y1) and p2 at (x2, y2), it is |x1 - x2| + |y1 - y2|.\n"
   ]
  },
  {
   "cell_type": "code",
   "execution_count": 2,
   "metadata": {},
   "outputs": [
    {
     "name": "stdout",
     "output_type": "stream",
     "text": [
      "Distance between (0, 1) and (-1, -2) with 5 decimals is 4.00000\n"
     ]
    }
   ],
   "source": [
    "def distance(p1,p2, prec =2):\n",
    "    dist=abs(p1[0]-p2[0])+abs(p1[1]-p2[1])\n",
    "    print('Distance between {0} and {1} with {3} decimals is {2:.{3}f}'.format(p1, p2, dist, prec))\n",
    "\n",
    "distance((0, 1), (-1, -2), 5) "
   ]
  },
  {
   "attachments": {},
   "cell_type": "markdown",
   "metadata": {},
   "source": [
    "# Chebyshev distance\n",
    "Chebyshev distance is a distance metric which is the maximum absolute distance in one dimension of two N dimensional points. It has real world applications in Chess, Warehouse logistics and many other fields.\n",
    "[<img src=\"cheby.png\" width=\"500\"/>](cheby.png)"
   ]
  },
  {
   "cell_type": "code",
   "execution_count": 3,
   "metadata": {},
   "outputs": [
    {
     "name": "stdout",
     "output_type": "stream",
     "text": [
      "Distance between (0, 1) and (-1, -2) with 5 decimals is 3.00000\n"
     ]
    }
   ],
   "source": [
    "def distance(p1,p2, prec =2):\n",
    "    dist=max(abs(p1[0]-p2[0]),abs(p1[1]-p2[1]))\n",
    "    print('Distance between {0} and {1} with {3} decimals is {2:.{3}f}'.format(p1, p2, dist, prec))\n",
    "\n",
    "distance((0, 1), (-1, -2), 5) "
   ]
  },
  {
   "attachments": {},
   "cell_type": "markdown",
   "metadata": {},
   "source": [
    "# Minkowski Distance\n",
    "The Minkowski distance between two variabes X and Y is defined as\n",
    "\n",
    "[<img src=\"mikowsky.png\" width=\"500\"/>](mikowsky.png)"
   ]
  },
  {
   "cell_type": "code",
   "execution_count": 31,
   "metadata": {},
   "outputs": [
    {
     "name": "stdout",
     "output_type": "stream",
     "text": [
      "Distance between (0, 3, 4, 5) and (7, 6, 3, -1) with 3 decimals is 8.373\n"
     ]
    }
   ],
   "source": [
    "def distance(p1,p2,prec =2):\n",
    "    dist=(abs((p1[0]-p2[0])**3)+abs((p1[1]-p2[1])**3)+abs((p1[2]-p2[2])**3)+abs((p1[3]-p2[3])**3))**0.3333333333333333\n",
    "    print('Distance between {0} and {1} with {3} decimals is {2:.{3}f}'.format(p1, p2, dist,prec))\n",
    "\n",
    "distance((0, 3,4,5), (7, 6,3,-1),3) "
   ]
  },
  {
   "attachments": {},
   "cell_type": "markdown",
   "metadata": {},
   "source": [
    "# Jaccard Similarity\n",
    "Jaccard Similarity (coefficient), a term coined by Paul Jaccard, measures similarities between sets. It is defined as the size of the intersection divided by the size of the union of two sets.\n",
    "\n",
    "Jaccard similarity is computed using the following formula:\n",
    "[<img src=\"manhatten.png\" width=\"500\"/>](manhatten.png)\n",
    "\n"
   ]
  },
  {
   "cell_type": "code",
   "execution_count": 40,
   "metadata": {},
   "outputs": [
    {
     "name": "stdout",
     "output_type": "stream",
     "text": [
      "Distance between 0.14285714285714285\n"
     ]
    }
   ],
   "source": [
    "from math import*\n",
    "from decimal import Decimal\n",
    "def distance(p1,p2):\n",
    "    inter=len(set.intersection(*[set(p1), set(p2)]))\n",
    "    uni=len(set.union(*[set(p1), set(p2)]))\n",
    "    jaccard = inter/float(uni)\n",
    "    print('Distance between {2}'.format(p1, p2, jaccard))\n",
    "\n",
    "distance((0, 3,4,5), (7, 6,3,-1)) "
   ]
  }
 ],
 "metadata": {
  "kernelspec": {
   "display_name": "Python 3",
   "language": "python",
   "name": "python3"
  },
  "language_info": {
   "codemirror_mode": {
    "name": "ipython",
    "version": 3
   },
   "file_extension": ".py",
   "mimetype": "text/x-python",
   "name": "python",
   "nbconvert_exporter": "python",
   "pygments_lexer": "ipython3",
   "version": "3.7.4"
  }
 },
 "nbformat": 4,
 "nbformat_minor": 2
}
