{
 "cells": [
  {
   "cell_type": "code",
   "execution_count": 1,
   "metadata": {},
   "outputs": [],
   "source": [
    "import pandas as pd"
   ]
  },
  {
   "cell_type": "code",
   "execution_count": 2,
   "metadata": {},
   "outputs": [],
   "source": [
    "train_data=[]\n",
    "classes=[]\n",
    "with open('vertigo_train.txt') as infile:\n",
    "    for line in infile:\n",
    "        x=list(map(int, line.rstrip('\\n').split(' ')))\n",
    "        classes.append(x[0])\n",
    "        train_data.append(x[1:])\n"
   ]
  },
  {
   "cell_type": "code",
   "execution_count": 3,
   "metadata": {},
   "outputs": [],
   "source": [
    "test_data=[]\n",
    "with open('vertigo_predict.txt') as infile:\n",
    "    for line in infile:\n",
    "        test_data.append(list(map(int, line.rstrip('\\n').split(' '))))\n",
    "\n"
   ]
  },
  {
   "cell_type": "code",
   "execution_count": 4,
   "metadata": {},
   "outputs": [],
   "source": [
    "answers_data=[]\n",
    "with open('vertigo_answers.txt') as infile:\n",
    "    for line in infile:\n",
    "        answers_data.append(int(line.rstrip('\\n')))"
   ]
  },
  {
   "cell_type": "code",
   "execution_count": 5,
   "metadata": {},
   "outputs": [
    {
     "name": "stdout",
     "output_type": "stream",
     "text": [
      "Perceptron (default): 80.41% correct\n"
     ]
    }
   ],
   "source": [
    "# Testing data for prediction\n",
    "import numpy as np\n",
    "from sklearn.linear_model import Perceptron\n",
    "p=Perceptron()\n",
    "p.fit(train_data, classes)\n",
    "predictions=p.predict(test_data)\n",
    "print('Perceptron (default): {:.2f}% correct'.format(np.sum(predictions==answers_data)/len(answers_data)*100))\n"
   ]
  },
  {
   "cell_type": "code",
   "execution_count": 6,
   "metadata": {},
   "outputs": [
    {
     "name": "stdout",
     "output_type": "stream",
     "text": [
      "Perceptron (max_iter = 10): 73.71% correct\n",
      "Perceptron (max_iter = 50): 80.41% correct\n",
      "Perceptron (max_iter = 100): 80.41% correct\n",
      "Perceptron (max_iter = 250): 80.41% correct\n",
      "Perceptron (max_iter = 500): 80.41% correct\n",
      "Perceptron (max_iter = 1000): 80.41% correct\n"
     ]
    },
    {
     "name": "stderr",
     "output_type": "stream",
     "text": [
      "C:\\ProgramData\\Anaconda3\\lib\\site-packages\\sklearn\\linear_model\\stochastic_gradient.py:561: ConvergenceWarning: Maximum number of iteration reached before convergence. Consider increasing max_iter to improve the fit.\n",
      "  ConvergenceWarning)\n"
     ]
    }
   ],
   "source": [
    "iters=[10,50,100,250,500,1000]\n",
    "for i in iters:\n",
    "    p=Perceptron(max_iter=i)\n",
    "    p.fit(train_data, classes)\n",
    "    predictions=p.predict(test_data)\n",
    "    print('Perceptron (max_iter = {}): {:.2f}% correct'.format(i,np.sum(predictions==answers_data)/len(answers_data)*100))"
   ]
  },
  {
   "cell_type": "code",
   "execution_count": 7,
   "metadata": {},
   "outputs": [
    {
     "name": "stdout",
     "output_type": "stream",
     "text": [
      "Nearest neighbour: 68.56% correct\n"
     ]
    }
   ],
   "source": [
    "from sklearn.metrics.pairwise import manhattan_distances\n",
    "manPredict=[]\n",
    "for i in range(len(test_data)):\n",
    "    dists=[]\n",
    "    for j in range(len(train_data)):\n",
    "        dists.append(manhattan_distances(np.array(test_data[i]).reshape(1,-1),np.array(train_data[j]).reshape(1,-1)))\n",
    "\n",
    "    res=np.where(dists==min(dists))    \n",
    "  \n",
    "    manPredict.append(int(np.mean([classes[x] for x in list(res[0])])))\n",
    "print('Nearest neighbour: {:.2f}% correct'.format(np.sum(np.array(manPredict)==answers_data)/len(answers_data)*100))"
   ]
  },
  {
   "cell_type": "code",
   "execution_count": null,
   "metadata": {},
   "outputs": [],
   "source": []
  }
 ],
 "metadata": {
  "kernelspec": {
   "display_name": "Python 3",
   "language": "python",
   "name": "python3"
  },
  "language_info": {
   "codemirror_mode": {
    "name": "ipython",
    "version": 3
   },
   "file_extension": ".py",
   "mimetype": "text/x-python",
   "name": "python",
   "nbconvert_exporter": "python",
   "pygments_lexer": "ipython3",
   "version": "3.7.4"
  }
 },
 "nbformat": 4,
 "nbformat_minor": 2
}
