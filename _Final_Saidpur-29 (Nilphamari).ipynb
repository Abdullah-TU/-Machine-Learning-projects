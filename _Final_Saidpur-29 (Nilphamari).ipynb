{
 "cells": [
  {
   "cell_type": "code",
   "execution_count": 1,
   "id": "3e6d594e",
   "metadata": {},
   "outputs": [],
   "source": [
    "# Libraries\n",
    "import numpy as np\n",
    "import pandas as pd\n",
    "import seaborn as sns\n",
    "import matplotlib.pyplot as plt"
   ]
  },
  {
   "cell_type": "code",
   "execution_count": 2,
   "id": "a51831ad",
   "metadata": {},
   "outputs": [
    {
     "data": {
      "text/html": [
       "<div>\n",
       "<style scoped>\n",
       "    .dataframe tbody tr th:only-of-type {\n",
       "        vertical-align: middle;\n",
       "    }\n",
       "\n",
       "    .dataframe tbody tr th {\n",
       "        vertical-align: top;\n",
       "    }\n",
       "\n",
       "    .dataframe thead th {\n",
       "        text-align: right;\n",
       "    }\n",
       "</style>\n",
       "<table border=\"1\" class=\"dataframe\">\n",
       "  <thead>\n",
       "    <tr style=\"text-align: right;\">\n",
       "      <th></th>\n",
       "      <th>Date</th>\n",
       "      <th>Saidpur_Tave</th>\n",
       "      <th>Saidpur_PRCP</th>\n",
       "      <th>Saidpur_NDVI</th>\n",
       "      <th>IOD_Value</th>\n",
       "      <th>SOI_Value</th>\n",
       "      <th>Nina3.4_Value</th>\n",
       "      <th>MEI_Value</th>\n",
       "      <th>Saidpur-29 (Nilphamari)</th>\n",
       "    </tr>\n",
       "  </thead>\n",
       "  <tbody>\n",
       "    <tr>\n",
       "      <th>0</th>\n",
       "      <td>01.01.1993</td>\n",
       "      <td>16.5</td>\n",
       "      <td>38</td>\n",
       "      <td>0.1948</td>\n",
       "      <td>-0.025962</td>\n",
       "      <td>-8.2</td>\n",
       "      <td>0.28</td>\n",
       "      <td>0.925</td>\n",
       "      <td>3.110000</td>\n",
       "    </tr>\n",
       "    <tr>\n",
       "      <th>1</th>\n",
       "      <td>02.01.1993</td>\n",
       "      <td>16.5</td>\n",
       "      <td>38</td>\n",
       "      <td>0.1948</td>\n",
       "      <td>-0.025962</td>\n",
       "      <td>-8.2</td>\n",
       "      <td>0.28</td>\n",
       "      <td>0.925</td>\n",
       "      <td>3.110000</td>\n",
       "    </tr>\n",
       "    <tr>\n",
       "      <th>2</th>\n",
       "      <td>03.01.1993</td>\n",
       "      <td>16.5</td>\n",
       "      <td>38</td>\n",
       "      <td>0.1948</td>\n",
       "      <td>-0.025962</td>\n",
       "      <td>-8.2</td>\n",
       "      <td>0.28</td>\n",
       "      <td>0.925</td>\n",
       "      <td>3.110000</td>\n",
       "    </tr>\n",
       "    <tr>\n",
       "      <th>3</th>\n",
       "      <td>04.01.1993</td>\n",
       "      <td>16.5</td>\n",
       "      <td>38</td>\n",
       "      <td>0.1948</td>\n",
       "      <td>-0.025962</td>\n",
       "      <td>-8.2</td>\n",
       "      <td>0.28</td>\n",
       "      <td>0.925</td>\n",
       "      <td>3.110000</td>\n",
       "    </tr>\n",
       "    <tr>\n",
       "      <th>4</th>\n",
       "      <td>05.01.1993</td>\n",
       "      <td>16.5</td>\n",
       "      <td>38</td>\n",
       "      <td>0.1948</td>\n",
       "      <td>-0.025962</td>\n",
       "      <td>-8.2</td>\n",
       "      <td>0.28</td>\n",
       "      <td>0.925</td>\n",
       "      <td>3.110000</td>\n",
       "    </tr>\n",
       "    <tr>\n",
       "      <th>...</th>\n",
       "      <td>...</td>\n",
       "      <td>...</td>\n",
       "      <td>...</td>\n",
       "      <td>...</td>\n",
       "      <td>...</td>\n",
       "      <td>...</td>\n",
       "      <td>...</td>\n",
       "      <td>...</td>\n",
       "      <td>...</td>\n",
       "    </tr>\n",
       "    <tr>\n",
       "      <th>9126</th>\n",
       "      <td>27.12.2017</td>\n",
       "      <td>17.4</td>\n",
       "      <td>0</td>\n",
       "      <td>0.1267</td>\n",
       "      <td>-0.204937</td>\n",
       "      <td>-1.4</td>\n",
       "      <td>-0.85</td>\n",
       "      <td>-0.404</td>\n",
       "      <td>1.786667</td>\n",
       "    </tr>\n",
       "    <tr>\n",
       "      <th>9127</th>\n",
       "      <td>28.12.2017</td>\n",
       "      <td>17.4</td>\n",
       "      <td>0</td>\n",
       "      <td>0.1267</td>\n",
       "      <td>-0.204937</td>\n",
       "      <td>-1.4</td>\n",
       "      <td>-0.85</td>\n",
       "      <td>-0.404</td>\n",
       "      <td>1.786667</td>\n",
       "    </tr>\n",
       "    <tr>\n",
       "      <th>9128</th>\n",
       "      <td>29.12.2017</td>\n",
       "      <td>17.4</td>\n",
       "      <td>0</td>\n",
       "      <td>0.1267</td>\n",
       "      <td>-0.204937</td>\n",
       "      <td>-1.4</td>\n",
       "      <td>-0.85</td>\n",
       "      <td>-0.404</td>\n",
       "      <td>1.786667</td>\n",
       "    </tr>\n",
       "    <tr>\n",
       "      <th>9129</th>\n",
       "      <td>30.12.2017</td>\n",
       "      <td>17.4</td>\n",
       "      <td>0</td>\n",
       "      <td>0.1267</td>\n",
       "      <td>-0.204937</td>\n",
       "      <td>-1.4</td>\n",
       "      <td>-0.85</td>\n",
       "      <td>-0.404</td>\n",
       "      <td>1.786667</td>\n",
       "    </tr>\n",
       "    <tr>\n",
       "      <th>9130</th>\n",
       "      <td>31.12.2017</td>\n",
       "      <td>17.4</td>\n",
       "      <td>0</td>\n",
       "      <td>0.1267</td>\n",
       "      <td>-0.204937</td>\n",
       "      <td>-1.4</td>\n",
       "      <td>-0.85</td>\n",
       "      <td>-0.404</td>\n",
       "      <td>1.786667</td>\n",
       "    </tr>\n",
       "  </tbody>\n",
       "</table>\n",
       "<p>9131 rows × 9 columns</p>\n",
       "</div>"
      ],
      "text/plain": [
       "            Date  Saidpur_Tave  Saidpur_PRCP  Saidpur_NDVI  IOD_Value  \\\n",
       "0     01.01.1993          16.5            38        0.1948  -0.025962   \n",
       "1     02.01.1993          16.5            38        0.1948  -0.025962   \n",
       "2     03.01.1993          16.5            38        0.1948  -0.025962   \n",
       "3     04.01.1993          16.5            38        0.1948  -0.025962   \n",
       "4     05.01.1993          16.5            38        0.1948  -0.025962   \n",
       "...          ...           ...           ...           ...        ...   \n",
       "9126  27.12.2017          17.4             0        0.1267  -0.204937   \n",
       "9127  28.12.2017          17.4             0        0.1267  -0.204937   \n",
       "9128  29.12.2017          17.4             0        0.1267  -0.204937   \n",
       "9129  30.12.2017          17.4             0        0.1267  -0.204937   \n",
       "9130  31.12.2017          17.4             0        0.1267  -0.204937   \n",
       "\n",
       "      SOI_Value  Nina3.4_Value  MEI_Value  Saidpur-29 (Nilphamari)  \n",
       "0          -8.2           0.28      0.925                 3.110000  \n",
       "1          -8.2           0.28      0.925                 3.110000  \n",
       "2          -8.2           0.28      0.925                 3.110000  \n",
       "3          -8.2           0.28      0.925                 3.110000  \n",
       "4          -8.2           0.28      0.925                 3.110000  \n",
       "...         ...            ...        ...                      ...  \n",
       "9126       -1.4          -0.85     -0.404                 1.786667  \n",
       "9127       -1.4          -0.85     -0.404                 1.786667  \n",
       "9128       -1.4          -0.85     -0.404                 1.786667  \n",
       "9129       -1.4          -0.85     -0.404                 1.786667  \n",
       "9130       -1.4          -0.85     -0.404                 1.786667  \n",
       "\n",
       "[9131 rows x 9 columns]"
      ]
     },
     "execution_count": 2,
     "metadata": {},
     "output_type": "execute_result"
    }
   ],
   "source": [
    "df = pd.read_excel(r'D:\\Jupyter\\Ground water level prediction(Towfiq Sir)\\final_data_Saidpur_29.xlsx')\n",
    "\n",
    "df"
   ]
  },
  {
   "cell_type": "code",
   "execution_count": 3,
   "id": "0da445da",
   "metadata": {},
   "outputs": [
    {
     "name": "stdout",
     "output_type": "stream",
     "text": [
      "Errors in DataFrame:\n",
      "No errors found in DataFrame\n"
     ]
    }
   ],
   "source": [
    "from DataFrame_Checker import DataFrameChecker\n",
    "\n",
    "#  an instance of DataFrameChecker\n",
    "checker = DataFrameChecker(df)\n",
    "\n",
    "\n",
    "# Called the checking functions\n",
    "checker.check_errors()"
   ]
  },
  {
   "cell_type": "code",
   "execution_count": 4,
   "id": "c36a8df5",
   "metadata": {},
   "outputs": [
    {
     "name": "stdout",
     "output_type": "stream",
     "text": [
      "No missing values found in DataFrame\n"
     ]
    }
   ],
   "source": [
    "checker.check_missing_values()"
   ]
  },
  {
   "cell_type": "code",
   "execution_count": 5,
   "id": "cf276e24",
   "metadata": {},
   "outputs": [
    {
     "name": "stdout",
     "output_type": "stream",
     "text": [
      "Index(['Date', 'Saidpur_Tave', 'Saidpur_PRCP', 'Saidpur_NDVI', 'IOD_Value',\n",
      "       'SOI_Value', 'Nina3.4_Value', 'MEI_Value', 'Saidpur-29 (Nilphamari)'],\n",
      "      dtype='object')\n"
     ]
    }
   ],
   "source": [
    "print(df.columns)"
   ]
  },
  {
   "cell_type": "code",
   "execution_count": 6,
   "id": "1878bf72",
   "metadata": {},
   "outputs": [
    {
     "name": "stdout",
     "output_type": "stream",
     "text": [
      "<class 'pandas.core.frame.DataFrame'>\n",
      "RangeIndex: 9131 entries, 0 to 9130\n",
      "Data columns (total 9 columns):\n",
      " #   Column                   Non-Null Count  Dtype  \n",
      "---  ------                   --------------  -----  \n",
      " 0   Date                     9131 non-null   object \n",
      " 1   Saidpur_Tave             9131 non-null   float64\n",
      " 2   Saidpur_PRCP             9131 non-null   int64  \n",
      " 3   Saidpur_NDVI             9131 non-null   float64\n",
      " 4   IOD_Value                9131 non-null   float64\n",
      " 5   SOI_Value                9131 non-null   float64\n",
      " 6   Nina3.4_Value            9131 non-null   float64\n",
      " 7   MEI_Value                9131 non-null   float64\n",
      " 8   Saidpur-29 (Nilphamari)  9131 non-null   float64\n",
      "dtypes: float64(7), int64(1), object(1)\n",
      "memory usage: 642.1+ KB\n"
     ]
    }
   ],
   "source": [
    "df.info()"
   ]
  },
  {
   "cell_type": "code",
   "execution_count": 7,
   "id": "71c6b6af",
   "metadata": {},
   "outputs": [],
   "source": [
    "# Assuming df is your DataFrame\n",
    "cols_to_convert = df.columns.difference(['Date'])\n",
    "\n",
    "df[cols_to_convert] = df[cols_to_convert].astype(float)\n"
   ]
  },
  {
   "cell_type": "code",
   "execution_count": 8,
   "id": "b8b1a0c9",
   "metadata": {},
   "outputs": [
    {
     "data": {
      "text/plain": [
       "count    9131.000000\n",
       "mean        3.523060\n",
       "std         1.049127\n",
       "min         1.317500\n",
       "25%         2.746667\n",
       "50%         3.538000\n",
       "75%         4.180000\n",
       "max         6.675000\n",
       "Name: Saidpur-29 (Nilphamari), dtype: float64"
      ]
     },
     "execution_count": 8,
     "metadata": {},
     "output_type": "execute_result"
    }
   ],
   "source": [
    "df[\"Saidpur-29 (Nilphamari)\"].describe()"
   ]
  },
  {
   "cell_type": "code",
   "execution_count": 9,
   "id": "1ba898e7",
   "metadata": {},
   "outputs": [
    {
     "name": "stdout",
     "output_type": "stream",
     "text": [
      "<class 'pandas.core.frame.DataFrame'>\n",
      "RangeIndex: 9131 entries, 0 to 9130\n",
      "Data columns (total 9 columns):\n",
      " #   Column                   Non-Null Count  Dtype  \n",
      "---  ------                   --------------  -----  \n",
      " 0   Date                     9131 non-null   object \n",
      " 1   Saidpur_Tave             9131 non-null   float64\n",
      " 2   Saidpur_PRCP             9131 non-null   float64\n",
      " 3   Saidpur_NDVI             9131 non-null   float64\n",
      " 4   IOD_Value                9131 non-null   float64\n",
      " 5   SOI_Value                9131 non-null   float64\n",
      " 6   Nina3.4_Value            9131 non-null   float64\n",
      " 7   MEI_Value                9131 non-null   float64\n",
      " 8   Saidpur-29 (Nilphamari)  9131 non-null   float64\n",
      "dtypes: float64(8), object(1)\n",
      "memory usage: 642.1+ KB\n"
     ]
    }
   ],
   "source": [
    "df.info()"
   ]
  },
  {
   "cell_type": "code",
   "execution_count": 10,
   "id": "e76beffc",
   "metadata": {},
   "outputs": [],
   "source": [
    "from sklearn.model_selection import train_test_split\n",
    "\n",
    "# Assuming df is your DataFrame\n",
    "df['Date'] = pd.to_datetime(df['Date'], format='%d.%m.%Y')\n",
    "\n",
    "df_train = df.loc[df['Date'].dt.year <= 2012]\n",
    "df_test = df.loc[df['Date'].dt.year >= 2013]\n",
    "\n",
    "X_train = df_train.drop(columns=['Saidpur-29 (Nilphamari)', 'Date']).to_numpy()\n",
    "y_train = df_train['Saidpur-29 (Nilphamari)'].to_numpy()\n",
    "\n",
    "X_train, X_val, y_train, y_val = train_test_split(X_train, y_train, test_size=0.2, random_state=42)\n"
   ]
  },
  {
   "cell_type": "code",
   "execution_count": 11,
   "id": "f086d309",
   "metadata": {},
   "outputs": [
    {
     "name": "stdout",
     "output_type": "stream",
     "text": [
      "[LightGBM] [Info] Auto-choosing col-wise multi-threading, the overhead of testing was 0.000271 seconds.\n",
      "You can set `force_col_wise=true` to remove the overhead.\n",
      "[LightGBM] [Info] Total Bins 1284\n",
      "[LightGBM] [Info] Number of data points in the train set: 5844, number of used features: 7\n",
      "[LightGBM] [Info] Start training from score 3.773200\n",
      "[LightGBM] [Info] Auto-choosing col-wise multi-threading, the overhead of testing was 0.000231 seconds.\n",
      "You can set `force_col_wise=true` to remove the overhead.\n",
      "[LightGBM] [Info] Total Bins 1284\n",
      "[LightGBM] [Info] Number of data points in the train set: 5844, number of used features: 7\n",
      "[LightGBM] [Info] Start training from score 3.773200\n",
      "Linear Regression RMSE: 0.890553402851133\n",
      "Decision Tree RMSE: 1.22528342471763e-15\n",
      "Random Forest RMSE: 5.317101218181661e-15\n",
      "Ridge Regression RMSE: 0.8905128418111085\n",
      "K-Nearest Neighbors RMSE: 1.5413506399670383e-16\n",
      "Gaussian Process RMSE: 1.6035992976322954e-11\n",
      "Polynomial Regression RMSE: 0.5915592494975154\n",
      "Poly Kernel RMSE: 0.591559250330007\n",
      "RBF Kernel RMSE: 2.214401155480132e-11\n",
      "Gaussian Process Regression RMSE: 1.6035992976322954e-11\n",
      "Weighted K-NN RMSE: 1.5413506399670383e-16\n",
      "Gradient Boosting Regressor RMSE: 0.3797995113564024\n",
      "AdaBoost Regressor RMSE: 0.6709499304326422\n",
      "LightGBM Regressor RMSE: 0.010283085905668206\n",
      "CatBoost Regressor RMSE: 0.002288341970113134\n",
      "XGBoost RMSE: 0.0002593952365146192\n",
      "LightGBM Regressor RMSE: 0.010283085905668206\n",
      "\n",
      "Linear Regression MAE: 0.711869778730655\n",
      "Decision Tree MAE: 9.49578844333741e-16\n",
      "Random Forest MAE: 4.493781573185028e-15\n",
      "Ridge Regression MAE: 0.7118914721625249\n",
      "K-Nearest Neighbors MAE: 5.349739968077414e-17\n",
      "Gaussian Process MAE: 1.5232388170031383e-11\n",
      "Polynomial Regression MAE: 0.442604246242483\n",
      "Poly Kernel MAE: 0.4426042479450574\n",
      "RBF Kernel MAE: 1.4979611436727234e-11\n",
      "Gaussian Process Regression MAE: 1.5232388170031383e-11\n",
      "Weighted K-NN MAE: 5.349739968077414e-17\n",
      "Gradient Boosting Regressor MAE: 0.2948448130573278\n",
      "AdaBoost Regressor MAE: 0.5837857572865677\n",
      "LightGBM Regressor MAE: 0.008349692362704601\n",
      "CatBoost Regressor MAE: 0.0017668298770639086\n",
      "XGBoost MAE: 0.0002028007971712641\n",
      "LightGBM Regressor MAE: 0.008349692362704601\n",
      "\n",
      "Linear Regression R-squared: 0.14133396973542345\n",
      "Decision Tree R-squared: 1.0\n",
      "Random Forest R-squared: 1.0\n",
      "Ridge Regression R-squared: 0.14141218535722666\n",
      "K-Nearest Neighbors R-squared: 1.0\n",
      "Gaussian Process R-squared: 1.0\n",
      "Polynomial Regression R-squared: 0.6211207284005513\n",
      "Poly Kernel R-squared: 0.6211207273341701\n",
      "RBF Kernel R-squared: 1.0\n",
      "Gaussian Process Regression R-squared: 1.0\n",
      "Weighted K-NN R-squared: 1.0\n",
      "Gradient Boosting Regressor R-squared: 0.8438244117301568\n",
      "AdaBoost Regressor R-squared: 0.5126010698181129\n",
      "LightGBM Regressor R-squared: 0.9998855142917746\n",
      "CatBoost Regressor R-squared: 0.9999943304812073\n",
      "XGBoost R-squared: 0.9999999271502039\n",
      "LightGBM Regressor R-squared: 0.9998855142917746\n"
     ]
    }
   ],
   "source": [
    "# Import necessary libraries\n",
    "from sklearn.preprocessing import LabelEncoder, StandardScaler, MinMaxScaler\n",
    "from sklearn.model_selection import train_test_split\n",
    "from sklearn.ensemble import GradientBoostingRegressor, RandomForestRegressor, AdaBoostRegressor\n",
    "from sklearn.linear_model import LinearRegression, Ridge\n",
    "from sklearn.metrics import mean_squared_error, mean_absolute_error, r2_score\n",
    "from sklearn.neighbors import KNeighborsRegressor\n",
    "from sklearn.tree import DecisionTreeRegressor\n",
    "from sklearn.gaussian_process import GaussianProcessRegressor\n",
    "from sklearn.decomposition import PCA\n",
    "from sklearn.model_selection import GridSearchCV, RandomizedSearchCV\n",
    "from statsmodels.nonparametric.kernel_regression import KernelReg\n",
    "from sklearn.preprocessing import PolynomialFeatures\n",
    "from sklearn.pipeline import make_pipeline\n",
    "from sklearn.neighbors import KNeighborsRegressor\n",
    "from sklearn.linear_model import LinearRegression\n",
    "from sklearn.gaussian_process import GaussianProcessRegressor\n",
    "from lightgbm import LGBMRegressor\n",
    "from catboost import CatBoostRegressor\n",
    "from keras.models import Sequential\n",
    "from keras.layers import LSTM, GRU, Dense\n",
    "from statsmodels.tsa.arima.model import ARIMA\n",
    "from statsmodels.tsa.holtwinters import ExponentialSmoothing\n",
    "from statsmodels.tsa.statespace.sarimax import SARIMAX\n",
    "from statsmodels.tsa.holtwinters import ExponentialSmoothing\n",
    "from tbats import TBATS\n",
    "from lightgbm import LGBMRegressor\n",
    "from catboost import CatBoostRegressor\n",
    "from keras.models import Sequential\n",
    "from keras.layers import LSTM, GRU, Dense\n",
    "from xgboost import XGBRegressor\n",
    "import lightgbm as lgb\n",
    "from sklearn.metrics import mean_squared_error, mean_absolute_error, r2_score\n",
    "from statsmodels.tsa.vector_ar.var_model import VAR\n",
    "from sklearn.ensemble import AdaBoostRegressor\n",
    "\n",
    "\n",
    "\n",
    "random_state = 42 \n",
    "\n",
    "# Initialize different base models\n",
    "linear_regression = LinearRegression()\n",
    "decision_tree = DecisionTreeRegressor()\n",
    "random_forest = RandomForestRegressor(random_state=random_state)\n",
    "ridge = Ridge()\n",
    "knn = KNeighborsRegressor()\n",
    "gaussian_process = GaussianProcessRegressor()\n",
    "poly_reg = make_pipeline(PolynomialFeatures(3), LinearRegression())\n",
    "poly_kernel = make_pipeline(StandardScaler(), PolynomialFeatures(3), LinearRegression())\n",
    "rbf_kernel = make_pipeline(StandardScaler(), GaussianProcessRegressor(kernel=None, n_restarts_optimizer=10, random_state=random_state))\n",
    "gpr = GaussianProcessRegressor(random_state=random_state)\n",
    "weighted_knn = KNeighborsRegressor(weights='distance')\n",
    "lightgbm = LGBMRegressor(random_state=random_state)\n",
    "catboost = CatBoostRegressor(random_state=random_state, verbose=0)\n",
    "xgb_model = XGBRegressor()\n",
    "lgb_regressor = lgb.LGBMRegressor()\n",
    "gbr = GradientBoostingRegressor(random_state=random_state)\n",
    "abr = AdaBoostRegressor(random_state=random_state)\n",
    "\n",
    "\n",
    "# Train each base model on the training set\n",
    "linear_regression.fit(X_train, y_train)\n",
    "decision_tree.fit(X_train, y_train)\n",
    "random_forest.fit(X_train, y_train)\n",
    "ridge.fit(X_train, y_train)\n",
    "knn.fit(X_train, y_train)\n",
    "gaussian_process.fit(X_train, y_train)\n",
    "poly_reg.fit(X_train, y_train)\n",
    "poly_kernel.fit(X_train, y_train)\n",
    "rbf_kernel.fit(X_train, y_train)\n",
    "gpr.fit(X_train, y_train)\n",
    "weighted_knn.fit(X_train, y_train)\n",
    "lightgbm.fit(X_train, y_train)\n",
    "catboost.fit(X_train, y_train)\n",
    "xgb_model.fit(X_train, y_train)\n",
    "lgb_regressor.fit(X_train, y_train)\n",
    "gbr.fit(X_train, y_train)\n",
    "abr.fit(X_train, y_train)\n",
    "\n",
    "\n",
    "# Train and evaluate Linear Regression\n",
    "linear_pred_val = linear_regression.predict(X_val)\n",
    "linear_rmse_val = mean_squared_error(y_val, linear_pred_val, squared=False)\n",
    "linear_mae_val = mean_absolute_error(y_val, linear_pred_val)\n",
    "linear_r2_val = r2_score(y_val, linear_pred_val)\n",
    "\n",
    "# Train and evaluate Decision Tree\n",
    "dt_pred_val = decision_tree.predict(X_val)\n",
    "dt_rmse_val = mean_squared_error(y_val, dt_pred_val, squared=False)\n",
    "dt_mae_val = mean_absolute_error(y_val, dt_pred_val)\n",
    "dt_r2_val = r2_score(y_val, dt_pred_val)\n",
    "\n",
    "# Train and evaluate Random Forest\n",
    "rf_pred_val = random_forest.predict(X_val)\n",
    "rf_rmse_val = mean_squared_error(y_val, rf_pred_val, squared=False)\n",
    "rf_mae_val = mean_absolute_error(y_val, rf_pred_val)\n",
    "rf_r2_val = r2_score(y_val, rf_pred_val)\n",
    "\n",
    "# Train and evaluate Ridge Regression\n",
    "ridge_pred_val = ridge.predict(X_val)\n",
    "ridge_rmse_val = mean_squared_error(y_val, ridge_pred_val, squared=False)\n",
    "ridge_mae_val = mean_absolute_error(y_val, ridge_pred_val)\n",
    "ridge_r2_val = r2_score(y_val, ridge_pred_val)\n",
    "\n",
    "\n",
    "# Train and evaluate K-Nearest Neighbors\n",
    "knn_pred_val = knn.predict(X_val)\n",
    "knn_rmse_val = mean_squared_error(y_val, knn_pred_val, squared=False)\n",
    "knn_mae_val = mean_absolute_error(y_val, knn_pred_val)\n",
    "knn_r2_val = r2_score(y_val, knn_pred_val)\n",
    "\n",
    "# Train and evaluate Gaussian Process\n",
    "gp_pred_val = gaussian_process.predict(X_val)\n",
    "gp_rmse_val = mean_squared_error(y_val, gp_pred_val, squared=False)\n",
    "gp_mae_val = mean_absolute_error(y_val, gp_pred_val)\n",
    "gp_r2_val = r2_score(y_val, gp_pred_val)\n",
    "\n",
    "\n",
    "# Train and evaluate Polynomial Regression\n",
    "poly_reg_pred_val = poly_reg.predict(X_val)\n",
    "poly_reg_rmse_val = mean_squared_error(y_val, poly_reg_pred_val, squared=False)\n",
    "poly_reg_mae_val = mean_absolute_error(y_val, poly_reg_pred_val)\n",
    "poly_reg_r2_val = r2_score(y_val, poly_reg_pred_val)\n",
    "\n",
    "# Train and evaluate Poly Kernel\n",
    "poly_kernel_pred_val = poly_kernel.predict(X_val)\n",
    "poly_kernel_rmse_val = mean_squared_error(y_val, poly_kernel_pred_val, squared=False)\n",
    "poly_kernel_mae_val = mean_absolute_error(y_val, poly_kernel_pred_val)\n",
    "poly_kernel_r2_val = r2_score(y_val, poly_kernel_pred_val)\n",
    "\n",
    "# Train and evaluate RBF Kernel\n",
    "rbf_kernel_pred_val = rbf_kernel.predict(X_val)\n",
    "rbf_kernel_rmse_val = mean_squared_error(y_val, rbf_kernel_pred_val, squared=False)\n",
    "rbf_kernel_mae_val = mean_absolute_error(y_val, rbf_kernel_pred_val)\n",
    "rbf_kernel_r2_val = r2_score(y_val, rbf_kernel_pred_val)\n",
    "\n",
    "# Train and evaluate Gaussian Process Regression\n",
    "gpr_pred_val = gpr.predict(X_val)\n",
    "gpr_rmse_val = mean_squared_error(y_val, gpr_pred_val, squared=False)\n",
    "gpr_mae_val = mean_absolute_error(y_val, gpr_pred_val)\n",
    "gpr_r2_val = r2_score(y_val, gpr_pred_val)\n",
    "\n",
    "# Train and evaluate Weighted K-NN\n",
    "wknn_pred_val = weighted_knn.predict(X_val)\n",
    "wknn_rmse_val = mean_squared_error(y_val, wknn_pred_val, squared=False)\n",
    "wknn_mae_val = mean_absolute_error(y_val, wknn_pred_val)\n",
    "wknn_r2_val = r2_score(y_val, wknn_pred_val)\n",
    "\n",
    "# Train and evaluate Gradient Boosting Regressor\n",
    "gbr_pred_val = gbr.predict(X_val)\n",
    "gbr_rmse_val = mean_squared_error(y_val, gbr_pred_val, squared=False)\n",
    "gbr_mae_val = mean_absolute_error(y_val, gbr_pred_val)\n",
    "gbr_r2_val = r2_score(y_val, gbr_pred_val)\n",
    "\n",
    "# Train and evaluate AdaBoost Regressor\n",
    "abr_pred_val = abr.predict(X_val)\n",
    "abr_rmse_val = mean_squared_error(y_val, abr_pred_val, squared=False)\n",
    "abr_mae_val = mean_absolute_error(y_val, abr_pred_val)\n",
    "abr_r2_val = r2_score(y_val, abr_pred_val)\n",
    "\n",
    "# Train and evaluate LightGBM Regressor\n",
    "lightgbm_pred_val = lightgbm.predict(X_val)\n",
    "lightgbm_rmse_val = mean_squared_error(y_val, lightgbm_pred_val, squared=False)\n",
    "lightgbm_mae_val = mean_absolute_error(y_val, lightgbm_pred_val)\n",
    "lightgbm_r2_val = r2_score(y_val, lightgbm_pred_val)\n",
    "\n",
    "# Train and evaluate CatBoost Regressor\n",
    "catboost_pred_val = catboost.predict(X_val)\n",
    "catboost_rmse_val = mean_squared_error(y_val, catboost_pred_val, squared=False)\n",
    "catboost_mae_val = mean_absolute_error(y_val, catboost_pred_val)\n",
    "catboost_r2_val = r2_score(y_val, catboost_pred_val)\n",
    "\n",
    "# Train and evaluate XGBoost\n",
    "xgb_pred_val = xgb_model.predict(X_val)\n",
    "xgb_rmse_val = mean_squared_error(y_val, xgb_pred_val, squared=False)\n",
    "xgb_mae_val = mean_absolute_error(y_val, xgb_pred_val)\n",
    "xgb_r2_val = r2_score(y_val, xgb_pred_val)\n",
    "\n",
    "# Train and evaluate LightGBM Regressor\n",
    "lgb_pred_val = lgb_regressor.predict(X_val)\n",
    "lgb_rmse_val = mean_squared_error(y_val, lgb_pred_val, squared=False)\n",
    "lgb_mae_val = mean_absolute_error(y_val, lgb_pred_val)\n",
    "lgb_r2_val = r2_score(y_val, lgb_pred_val)\n",
    "\n",
    "\n",
    "# Print evaluation metrics for each model on the validation set\n",
    "\n",
    "# Print the evaluation metrics for each model\n",
    "print(\"Linear Regression RMSE:\", linear_rmse_val)\n",
    "print(\"Decision Tree RMSE:\", dt_rmse_val)\n",
    "print(\"Random Forest RMSE:\", rf_rmse_val)\n",
    "print(\"Ridge Regression RMSE:\", ridge_rmse_val)\n",
    "print(\"K-Nearest Neighbors RMSE:\", knn_rmse_val)\n",
    "print(\"Gaussian Process RMSE:\", gp_rmse_val)\n",
    "print(\"Polynomial Regression RMSE:\", poly_reg_rmse_val)\n",
    "print(\"Poly Kernel RMSE:\", poly_kernel_rmse_val)\n",
    "print(\"RBF Kernel RMSE:\", rbf_kernel_rmse_val)\n",
    "print(\"Gaussian Process Regression RMSE:\", gpr_rmse_val)\n",
    "print(\"Weighted K-NN RMSE:\", wknn_rmse_val)\n",
    "print(\"Gradient Boosting Regressor RMSE:\", gbr_rmse_val)\n",
    "print(\"AdaBoost Regressor RMSE:\", abr_rmse_val)\n",
    "print(\"LightGBM Regressor RMSE:\", lightgbm_rmse_val)\n",
    "print(\"CatBoost Regressor RMSE:\", catboost_rmse_val)\n",
    "print(\"XGBoost RMSE:\", xgb_rmse_val)\n",
    "print(\"LightGBM Regressor RMSE:\", lgb_rmse_val)\n",
    "\n",
    "print()\n",
    "\n",
    "print(\"Linear Regression MAE:\", linear_mae_val)\n",
    "print(\"Decision Tree MAE:\", dt_mae_val)\n",
    "print(\"Random Forest MAE:\", rf_mae_val)\n",
    "print(\"Ridge Regression MAE:\", ridge_mae_val)\n",
    "print(\"K-Nearest Neighbors MAE:\", knn_mae_val)\n",
    "print(\"Gaussian Process MAE:\", gp_mae_val)\n",
    "print(\"Polynomial Regression MAE:\", poly_reg_mae_val)\n",
    "print(\"Poly Kernel MAE:\", poly_kernel_mae_val)\n",
    "print(\"RBF Kernel MAE:\", rbf_kernel_mae_val)\n",
    "print(\"Gaussian Process Regression MAE:\", gpr_mae_val)\n",
    "print(\"Weighted K-NN MAE:\", wknn_mae_val)\n",
    "print(\"Gradient Boosting Regressor MAE:\", gbr_mae_val)\n",
    "print(\"AdaBoost Regressor MAE:\", abr_mae_val)\n",
    "print(\"LightGBM Regressor MAE:\", lightgbm_mae_val)\n",
    "print(\"CatBoost Regressor MAE:\", catboost_mae_val)\n",
    "print(\"XGBoost MAE:\", xgb_mae_val)\n",
    "print(\"LightGBM Regressor MAE:\", lgb_mae_val)\n",
    "\n",
    "print()\n",
    "\n",
    "print(\"Linear Regression R-squared:\", linear_r2_val)\n",
    "print(\"Decision Tree R-squared:\", dt_r2_val)\n",
    "print(\"Random Forest R-squared:\", rf_r2_val)\n",
    "print(\"Ridge Regression R-squared:\", ridge_r2_val)\n",
    "print(\"K-Nearest Neighbors R-squared:\", knn_r2_val)\n",
    "print(\"Gaussian Process R-squared:\", gp_r2_val)\n",
    "print(\"Polynomial Regression R-squared:\", poly_reg_r2_val)\n",
    "print(\"Poly Kernel R-squared:\", poly_kernel_r2_val)\n",
    "print(\"RBF Kernel R-squared:\", rbf_kernel_r2_val)\n",
    "print(\"Gaussian Process Regression R-squared:\", gpr_r2_val)\n",
    "print(\"Weighted K-NN R-squared:\", wknn_r2_val)\n",
    "print(\"Gradient Boosting Regressor R-squared:\", gbr_r2_val)\n",
    "print(\"AdaBoost Regressor R-squared:\", abr_r2_val)\n",
    "print(\"LightGBM Regressor R-squared:\", lightgbm_r2_val)\n",
    "print(\"CatBoost Regressor R-squared:\", catboost_r2_val)\n",
    "print(\"XGBoost R-squared:\", xgb_r2_val)\n",
    "print(\"LightGBM Regressor R-squared:\", lgb_r2_val)"
   ]
  },
  {
   "cell_type": "code",
   "execution_count": 12,
   "id": "6607b4ef",
   "metadata": {},
   "outputs": [
    {
     "name": "stdout",
     "output_type": "stream",
     "text": [
      "LWLR RMSE: 1.5413506399670383e-16\n",
      "LWLR MAE: 5.349739968077414e-17\n",
      "LWLR R-squared: 1.0\n"
     ]
    }
   ],
   "source": [
    "from sklearn.neighbors import KNeighborsRegressor\n",
    "from sklearn.metrics import mean_squared_error, mean_absolute_error, r2_score\n",
    "\n",
    "# Define the range of neighbors to consider\n",
    "num_neighbors = 5  # You can adjust this value\n",
    "\n",
    "# Initialize LWLR model\n",
    "lwlr = KNeighborsRegressor(n_neighbors=num_neighbors, weights='distance')\n",
    "\n",
    "# Train the LWLR model\n",
    "lwlr.fit(X_train, y_train)\n",
    "\n",
    "# Predict on validation set\n",
    "lwlr_pred = lwlr.predict(X_val)\n",
    "\n",
    "# Calculate metrics for LWLR\n",
    "lwlr_rmse = mean_squared_error(y_val, lwlr_pred, squared=False)\n",
    "lwlr_mae = mean_absolute_error(y_val, lwlr_pred)\n",
    "lwlr_r2 = r2_score(y_val, lwlr_pred)\n",
    "\n",
    "# Print the evaluation metrics for LWLR\n",
    "print(\"LWLR RMSE:\", lwlr_rmse)\n",
    "print(\"LWLR MAE:\", lwlr_mae)\n",
    "print(\"LWLR R-squared:\", lwlr_r2)"
   ]
  },
  {
   "cell_type": "markdown",
   "id": "f6ba759e",
   "metadata": {},
   "source": [
    "Based on the evaluation metrics provided, here are the 12 best models, ranked by RMSE, MAE, and R-squared values:\n",
    "\n",
    "1. Random Forest Regressor (RMSE: 4.5129170688300314e-15, MAE: 3.731747590232183e-15, R-squared: 1.0)\n",
    "2. lwlr\n",
    "3. Poly Kernel Regression (RMSE: 1.6127342607400202e-14, MAE: 1.2373097451168137e-14, R-squared: 1.0)\n",
    "4. RBF Kernel Regression (RMSE: 8.402295816463806e-12, MAE: 7.30005059367716e-12, R-squared: 1.0)\n",
    "5. Gaussian Process Regression (RMSE: 1.3658267901830649e-11, MAE: 1.321696512977017e-11, R-squared: 1.0)\n",
    "6. Weighted K-Nearest Neighbors (RMSE: 1.6151202582352662e-16, MAE: 6.094448088633645e-17, R-squared: 1.0)\n",
    "7. K-Nearest Neighbors (RMSE: 1.6151202582352662e-16, MAE: 6.094448088633645e-17, R-squared: 1.0)\n",
    "8. XGBoost Regressor (RMSE: 0.0001604180170547465, MAE: 0.00012571969879465955, R-squared: 0.9999999418520767)\n",
    "9. CatBoost Regressor (RMSE: 0.0004191192864975924, MAE: 0.00033127405418021457, R-squared: 0.9999996030797887)\n",
    "10. LightGBM Regressor (RMSE: 0.0032090330540582293, MAE: 0.002630020414763086, R-squared: 0.9999767310759211)\n",
    "11. Gradient Boosting Regressor (RMSE: 0.2065918821936626, MAE: 0.16683381944876388, R-squared: 0.9035606162870705)\n",
    "12. Ridge Regression (RMSE: 0.525636725173341, MAE: 0.429759090595957, R-squared: 0.37569139148812536)"
   ]
  },
  {
   "cell_type": "markdown",
   "id": "2275b610",
   "metadata": {},
   "source": [
    "# Hyper parameter tuning"
   ]
  },
  {
   "cell_type": "markdown",
   "id": "8f369eeb",
   "metadata": {},
   "source": [
    "## Random Forest Regressor HPT"
   ]
  },
  {
   "cell_type": "code",
   "execution_count": 13,
   "id": "db09e61e",
   "metadata": {},
   "outputs": [
    {
     "name": "stdout",
     "output_type": "stream",
     "text": [
      "Best Hyperparameters for Random Forest: {'max_depth': None, 'min_samples_split': 10, 'n_estimators': 50}\n",
      "Random Forest RMSE (Validation): 2.624774129999842e-15\n",
      "Random Forest MAE (Validation): 2.178195262002429e-15\n",
      "Random Forest R-squared (Validation): 1.0\n"
     ]
    }
   ],
   "source": [
    "from sklearn.ensemble import RandomForestRegressor\n",
    "from sklearn.metrics import mean_squared_error, mean_absolute_error, r2_score\n",
    "\n",
    "# Initialize Random Forest model\n",
    "random_forest = RandomForestRegressor()\n",
    "\n",
    "# Define the hyperparameters and their possible values for Random Forest\n",
    "param_grid_rf = {\n",
    "    'n_estimators': [50, 100, 200],  # You can adjust these values\n",
    "    'max_depth': [None, 5, 10],      # You can adjust these values\n",
    "    'min_samples_split': [2, 5, 10] # You can adjust these values\n",
    "}\n",
    "\n",
    "# Initialize Grid Search for Random Forest\n",
    "grid_search_rf = GridSearchCV(random_forest, param_grid_rf, scoring='neg_mean_squared_error', cv=5)\n",
    "\n",
    "# Perform Grid Search for Random Forest\n",
    "grid_search_rf.fit(X_train, y_train)\n",
    "\n",
    "# Get the best hyperparameters and model for Random Forest\n",
    "best_rf = grid_search_rf.best_estimator_\n",
    "best_params_rf = grid_search_rf.best_params_\n",
    "\n",
    "# Predict on validation set using Random Forest\n",
    "rf_pred_val = best_rf.predict(X_val)\n",
    "\n",
    "# Calculate metrics for Random Forest on validation set\n",
    "rf_rmse_val = mean_squared_error(y_val, rf_pred_val, squared=False)\n",
    "rf_mae_val = mean_absolute_error(y_val, rf_pred_val)\n",
    "rf_r2_val = r2_score(y_val, rf_pred_val)\n",
    "\n",
    "# Print the best hyperparameters and evaluation metrics for Random Forest on validation set\n",
    "print(\"Best Hyperparameters for Random Forest:\", best_params_rf)\n",
    "print(\"Random Forest RMSE (Validation):\", rf_rmse_val)\n",
    "print(\"Random Forest MAE (Validation):\", rf_mae_val)\n",
    "print(\"Random Forest R-squared (Validation):\", rf_r2_val)"
   ]
  },
  {
   "cell_type": "markdown",
   "id": "4e877720",
   "metadata": {},
   "source": [
    "## 2. LWLR HPT"
   ]
  },
  {
   "cell_type": "markdown",
   "id": "5c7bbb10",
   "metadata": {},
   "source": [
    "# lwlr doesn't need hyper parameter tuning"
   ]
  },
  {
   "cell_type": "code",
   "execution_count": 14,
   "id": "94dbcb3b",
   "metadata": {},
   "outputs": [
    {
     "name": "stdout",
     "output_type": "stream",
     "text": [
      "Best Hyperparameters for LWLR: {'n_neighbors': 3, 'weights': 'uniform'}\n",
      "LWLR RMSE (Validation): 1.6675494572148385e-16\n",
      "LWLR MAE (Validation): 6.261627462636064e-17\n",
      "LWLR R-squared (Validation): 1.0\n"
     ]
    }
   ],
   "source": [
    "from sklearn.neighbors import KNeighborsRegressor\n",
    "from sklearn.model_selection import GridSearchCV\n",
    "from sklearn.metrics import mean_squared_error, mean_absolute_error, r2_score\n",
    "\n",
    "# Define the range of neighbors to consider\n",
    "param_grid_lwlr = {\n",
    "    'n_neighbors': [3, 5, 7],  # You can adjust these values\n",
    "    'weights': ['uniform', 'distance']  # You can adjust these values\n",
    "}\n",
    "\n",
    "# Initialize LWLR model\n",
    "lwlr = KNeighborsRegressor()\n",
    "\n",
    "# Initialize Grid Search for LWLR\n",
    "grid_search_lwlr = GridSearchCV(lwlr, param_grid_lwlr, scoring='neg_mean_squared_error', cv=5)\n",
    "\n",
    "# Perform Grid Search for LWLR\n",
    "grid_search_lwlr.fit(X_train, y_train)\n",
    "\n",
    "# Get the best hyperparameters and model for LWLR\n",
    "best_lwlr = grid_search_lwlr.best_estimator_\n",
    "best_params_lwlr = grid_search_lwlr.best_params_\n",
    "\n",
    "# Predict on validation set using LWLR\n",
    "lwlr_pred_val = best_lwlr.predict(X_val)\n",
    "\n",
    "# Calculate metrics for LWLR on validation set\n",
    "lwlr_rmse_val = mean_squared_error(y_val, lwlr_pred_val, squared=False)\n",
    "lwlr_mae_val = mean_absolute_error(y_val, lwlr_pred_val)\n",
    "lwlr_r2_val = r2_score(y_val, lwlr_pred_val)\n",
    "\n",
    "# Print the best hyperparameters and evaluation metrics for LWLR on validation set\n",
    "print(\"Best Hyperparameters for LWLR:\", best_params_lwlr)\n",
    "print(\"LWLR RMSE (Validation):\", lwlr_rmse_val)\n",
    "print(\"LWLR MAE (Validation):\", lwlr_mae_val)\n",
    "print(\"LWLR R-squared (Validation):\", lwlr_r2_val)"
   ]
  },
  {
   "cell_type": "markdown",
   "id": "018efbc0",
   "metadata": {},
   "source": [
    "## 3. Gaussian Process Regression HPT"
   ]
  },
  {
   "cell_type": "code",
   "execution_count": 15,
   "id": "0e1961f3",
   "metadata": {},
   "outputs": [
    {
     "name": "stderr",
     "output_type": "stream",
     "text": [
      "D:\\Jupyter\\lib\\site-packages\\sklearn\\gaussian_process\\_gpr.py:659: ConvergenceWarning: lbfgs failed to converge (status=2):\n",
      "ABNORMAL_TERMINATION_IN_LNSRCH.\n",
      "\n",
      "Increase the number of iterations (max_iter) or scale the data as shown in:\n",
      "    https://scikit-learn.org/stable/modules/preprocessing.html\n",
      "  _check_optimize_result(\"lbfgs\", opt_res)\n"
     ]
    },
    {
     "name": "stdout",
     "output_type": "stream",
     "text": [
      "Best Hyperparameters for Gaussian Process Regression: {'kernel': None}\n",
      "Gaussian Process RMSE (Validation): 1.6035992976322954e-11\n",
      "Gaussian Process MAE (Validation): 1.5232388170031383e-11\n",
      "Gaussian Process R-squared (Validation): 1.0\n"
     ]
    }
   ],
   "source": [
    "from sklearn.model_selection import GridSearchCV\n",
    "from sklearn.gaussian_process import GaussianProcessRegressor\n",
    "from sklearn.gaussian_process.kernels import RBF, Matern, WhiteKernel\n",
    "from sklearn.metrics import mean_squared_error, mean_absolute_error, r2_score\n",
    "\n",
    "# Define the hyperparameters and their possible values for Gaussian Process Regression\n",
    "param_grid_gpr = {\n",
    "    'kernel': [None, 1.0 * RBF(length_scale=1.0), Matern(length_scale=1.0, nu=1.5), WhiteKernel(noise_level=1.0)]   \n",
    "    \n",
    "}\n",
    "\n",
    "# Initialize Grid Search for Gaussian Process Regression\n",
    "grid_search_gpr = GridSearchCV(GaussianProcessRegressor(), param_grid_gpr, scoring='neg_mean_squared_error', cv=5)\n",
    "grid_search_gpr.fit(X_train, y_train)\n",
    "\n",
    "# Get the best hyperparameters and model for Gaussian Process Regression\n",
    "best_gpr = grid_search_gpr.best_estimator_\n",
    "best_params_gpr = grid_search_gpr.best_params_\n",
    "\n",
    "# Predict on validation set using Gaussian Process Regression\n",
    "gpr_pred_val = best_gpr.predict(X_val)\n",
    "\n",
    "# Calculate metrics for Gaussian Process Regression on validation set\n",
    "gpr_rmse_val = mean_squared_error(y_val, gpr_pred_val, squared=False)\n",
    "gpr_mae_val = mean_absolute_error(y_val, gpr_pred_val)\n",
    "gpr_r2_val = r2_score(y_val, gpr_pred_val)\n",
    "\n",
    "# Print the best hyperparameters and evaluation metrics for Gaussian Process Regression on validation set\n",
    "print(\"Best Hyperparameters for Gaussian Process Regression:\", best_params_gpr)\n",
    "print(\"Gaussian Process RMSE (Validation):\", gpr_rmse_val)\n",
    "print(\"Gaussian Process MAE (Validation):\", gpr_mae_val)\n",
    "print(\"Gaussian Process R-squared (Validation):\", gpr_r2_val)"
   ]
  },
  {
   "cell_type": "markdown",
   "id": "e4635a20",
   "metadata": {},
   "source": [
    "## 4. Weighted K-Nearest Neighbors HPT"
   ]
  },
  {
   "cell_type": "code",
   "execution_count": 16,
   "id": "064e8ec6",
   "metadata": {},
   "outputs": [
    {
     "name": "stdout",
     "output_type": "stream",
     "text": [
      "Best Hyperparameters for Weighted K-Nearest Neighbors: {'algorithm': 'auto', 'leaf_size': 10, 'metric': 'euclidean', 'n_neighbors': 9, 'p': 1, 'weights': 'uniform'}\n",
      "Weighted K-NN RMSE (Validation): 1.3796047135227938e-16\n",
      "Weighted K-NN MAE (Validation): 4.2858712244256557e-17\n",
      "Weighted K-NN R-squared (Validation): 1.0\n"
     ]
    }
   ],
   "source": [
    "from sklearn.model_selection import GridSearchCV\n",
    "from sklearn.neighbors import KNeighborsRegressor\n",
    "from sklearn.metrics import mean_squared_error, mean_absolute_error, r2_score\n",
    "\n",
    "# Define the hyperparameters and their possible values for Weighted K-Nearest Neighbors\n",
    "param_grid_wknn = {\n",
    "     'n_neighbors': [3, 5, 7, 9,11],  # Adjust as needed\n",
    "    'weights': ['uniform', 'distance'],  # These are the most common, but you can explore other weighting options if available\n",
    "    'algorithm': ['auto', 'ball_tree', 'kd_tree', 'brute'],  # Algorithm used to compute the nearest neighbors\n",
    "    'leaf_size': [10, 30, 50],  # Leaf size for tree-based algorithms\n",
    "    'p': [1, 2],  # Power parameter for the Minkowski metric\n",
    "    'metric': ['euclidean', 'manhattan']  #\n",
    "}\n",
    "\n",
    "# Initialize Grid Search for Weighted K-Nearest Neighbors\n",
    "grid_search_wknn = GridSearchCV(KNeighborsRegressor(), param_grid_wknn, scoring='neg_mean_squared_error', cv=5)\n",
    "grid_search_wknn.fit(X_train, y_train)\n",
    "\n",
    "# Get the best hyperparameters and model for Weighted K-Nearest Neighbors\n",
    "best_wknn = grid_search_wknn.best_estimator_\n",
    "best_params_wknn = grid_search_wknn.best_params_\n",
    "\n",
    "# Predict on validation set using Weighted K-Nearest Neighbors\n",
    "wknn_pred_val = best_wknn.predict(X_val)\n",
    "\n",
    "# Calculate metrics for Weighted K-Nearest Neighbors on validation set\n",
    "wknn_rmse_val = mean_squared_error(y_val, wknn_pred_val, squared=False)\n",
    "wknn_mae_val = mean_absolute_error(y_val, wknn_pred_val)\n",
    "wknn_r2_val = r2_score(y_val, wknn_pred_val)\n",
    "\n",
    "# Print the best hyperparameters and evaluation metrics for Weighted K-Nearest Neighbors on validation set\n",
    "print(\"Best Hyperparameters for Weighted K-Nearest Neighbors:\", best_params_wknn)\n",
    "print(\"Weighted K-NN RMSE (Validation):\", wknn_rmse_val)\n",
    "print(\"Weighted K-NN MAE (Validation):\", wknn_mae_val)\n",
    "print(\"Weighted K-NN R-squared (Validation):\", wknn_r2_val)\n"
   ]
  },
  {
   "cell_type": "markdown",
   "id": "7121d198",
   "metadata": {},
   "source": [
    "## 5. K-Nearest Neighbors HPT"
   ]
  },
  {
   "cell_type": "markdown",
   "id": "9942d0aa",
   "metadata": {},
   "source": [
    "### The KNeighborsRegressor (KNN) model doesn't have traditional hyperparameters like other models (e.g., Random Forest).However, I performed hyperparameter tuning for the Locally Weighted Linear Regression (LWLR) using Grid Search with a specified range of neighbors and weight options, ultimately finding the best hyperparameters and model for LWLR, and evaluating its performance on the validation set."
   ]
  },
  {
   "cell_type": "code",
   "execution_count": 17,
   "id": "71cfb6ce",
   "metadata": {},
   "outputs": [
    {
     "name": "stdout",
     "output_type": "stream",
     "text": [
      "Best Hyperparameters for KNN: {'algorithm': 'auto', 'leaf_size': 10, 'metric': 'euclidean', 'n_neighbors': 9, 'p': 1, 'weights': 'uniform'}\n",
      "KNN RMSE: 1.3796047135227938e-16\n",
      "KNN MAE: 4.2858712244256557e-17\n",
      "KNN R-squared: 1.0\n"
     ]
    }
   ],
   "source": [
    "from sklearn.model_selection import GridSearchCV\n",
    "from sklearn.neighbors import KNeighborsRegressor\n",
    "from sklearn.metrics import mean_squared_error, mean_absolute_error, r2_score\n",
    "\n",
    "# Define the range of neighbors and weights to consider\n",
    "param_grid = {\n",
    "     'n_neighbors': [3, 5, 7, 9,11],  # Adjust as needed\n",
    "    'weights': ['uniform', 'distance'],  # These are the most common, but you can explore other weighting options if available\n",
    "    'algorithm': ['auto', 'ball_tree', 'kd_tree', 'brute'],  # Algorithm used to compute the nearest neighbors\n",
    "    'leaf_size': [10, 30, 50],  # Leaf size for tree-based algorithms\n",
    "    'p': [1, 2],  # Power parameter for the Minkowski metric\n",
    "    'metric': ['euclidean', 'manhattan'] \n",
    "}\n",
    "\n",
    "# Initialize KNN model\n",
    "knn = KNeighborsRegressor()\n",
    "\n",
    "# Initialize Grid Search\n",
    "grid_search = GridSearchCV(knn, param_grid, cv=5, scoring='neg_mean_squared_error')\n",
    "\n",
    "# Perform Grid Search\n",
    "grid_search.fit(X_train, y_train)\n",
    "\n",
    "# Get the best hyperparameters\n",
    "best_params = grid_search.best_params_\n",
    "\n",
    "# Train the KNN model with the best hyperparameters\n",
    "best_knn = KNeighborsRegressor(n_neighbors=best_params['n_neighbors'], weights=best_params['weights'])\n",
    "best_knn.fit(X_train, y_train)\n",
    "\n",
    "# Predict on validation set\n",
    "knn_pred = best_knn.predict(X_val)\n",
    "\n",
    "# Calculate metrics for KNN\n",
    "knn_rmse = mean_squared_error(y_val, knn_pred, squared=False)\n",
    "knn_mae = mean_absolute_error(y_val, knn_pred)\n",
    "knn_r2 = r2_score(y_val, knn_pred)\n",
    "\n",
    "# Print the best hyperparameters and evaluation metrics for KNN\n",
    "print(\"Best Hyperparameters for KNN:\", best_params)\n",
    "print(\"KNN RMSE:\", knn_rmse)\n",
    "print(\"KNN MAE:\", knn_mae)\n",
    "print(\"KNN R-squared:\", knn_r2)"
   ]
  },
  {
   "cell_type": "markdown",
   "id": "c090340a",
   "metadata": {},
   "source": [
    "## 6. XGBoost Regressor HPT"
   ]
  },
  {
   "cell_type": "code",
   "execution_count": 18,
   "id": "9a527588",
   "metadata": {},
   "outputs": [
    {
     "name": "stdout",
     "output_type": "stream",
     "text": [
      "Fitting 5 folds for each of 5 candidates, totalling 25 fits\n",
      "Fitting 5 folds for each of 5 candidates, totalling 25 fits\n",
      "Best Hyperparameters for XGBoost Regressor: OrderedDict([('gamma', 0.009563585051707605), ('learning_rate', 0.13856447107447098), ('max_depth', 5), ('n_estimators', 162)])\n",
      "XGBoost RMSE (Validation): 0.024378929564291933\n",
      "XGBoost MAE (Validation): 0.01854084260794524\n",
      "XGBoost R-squared (Validation): 0.9993565221347126\n"
     ]
    }
   ],
   "source": [
    "from xgboost import XGBRegressor\n",
    "from skopt import BayesSearchCV\n",
    "from skopt.space import Real, Integer\n",
    "\n",
    "# Define the search space for hyperparameters\n",
    "param_dist = {\n",
    "    'n_estimators': Integer(100, 300),\n",
    "    'max_depth': Integer(3, 5),\n",
    "    'learning_rate': Real(0.01, 0.2, prior='uniform'),\n",
    "    'gamma': Real(0, 0.2, prior='uniform')\n",
    "}\n",
    "\n",
    "# Initialize Bayesian Optimization for XGBoost Regressor\n",
    "bayes_search_xgb = BayesSearchCV(\n",
    "    XGBRegressor(),\n",
    "    param_dist,\n",
    "    scoring='neg_mean_squared_error',\n",
    "    cv=5,\n",
    "    n_iter=10,  # Adjust the number of iterations as needed\n",
    "    random_state=42,  # Set a seed for reproducibility\n",
    "    n_jobs=-1,  # Use multiple cores for parallelization\n",
    "    verbose=1,  # Print progress\n",
    "    n_points=5,  # Number of points to sample in each iteration\n",
    "    refit=True  # Refit the best estimator with the entire dataset\n",
    ")\n",
    "\n",
    "# Perform Bayesian Optimization\n",
    "bayes_search_xgb.fit(X_train, y_train)\n",
    "\n",
    "# Get the best hyperparameters and model for XGBoost Regressor\n",
    "best_xgb = bayes_search_xgb.best_estimator_\n",
    "best_params_xgb = bayes_search_xgb.best_params_\n",
    "\n",
    "# Predict on validation set using XGBoost Regressor\n",
    "xgb_pred_val = best_xgb.predict(X_val)\n",
    "\n",
    "# Calculate metrics for XGBoost Regressor on validation set\n",
    "xgb_rmse_val = mean_squared_error(y_val, xgb_pred_val, squared=False)\n",
    "xgb_mae_val = mean_absolute_error(y_val, xgb_pred_val)\n",
    "xgb_r2_val = r2_score(y_val, xgb_pred_val)\n",
    "\n",
    "# Print the best hyperparameters and evaluation metrics for XGBoost Regressor on validation set\n",
    "print(\"Best Hyperparameters for XGBoost Regressor:\", best_params_xgb)\n",
    "print(\"XGBoost RMSE (Validation):\", xgb_rmse_val)\n",
    "print(\"XGBoost MAE (Validation):\", xgb_mae_val)\n",
    "print(\"XGBoost R-squared (Validation):\", xgb_r2_val)\n"
   ]
  },
  {
   "cell_type": "markdown",
   "id": "8df8bac0",
   "metadata": {},
   "source": [
    "## 7. CatBoost Regressor  HPT"
   ]
  },
  {
   "cell_type": "code",
   "execution_count": 19,
   "id": "430d21f3",
   "metadata": {},
   "outputs": [
    {
     "name": "stdout",
     "output_type": "stream",
     "text": [
      "Fitting 5 folds for each of 5 candidates, totalling 25 fits\n",
      "Fitting 5 folds for each of 5 candidates, totalling 25 fits\n",
      "Best Hyperparameters for CatBoost Regressor: OrderedDict([('depth', 8), ('iterations', 226), ('learning_rate', 0.19853585997384401)])\n",
      "CatBoost RMSE (Validation): 0.0001798208182354181\n",
      "CatBoost MAE (Validation): 0.00013981926820570318\n",
      "CatBoost R-squared (Validation): 0.9999999649906307\n"
     ]
    }
   ],
   "source": [
    "from catboost import CatBoostRegressor\n",
    "from skopt import BayesSearchCV\n",
    "from skopt.space import Real, Integer\n",
    "\n",
    "# Define the search space for hyperparameters\n",
    "param_dist = {\n",
    "    'iterations': Integer(100, 300),\n",
    "    'depth': Integer(4, 8),\n",
    "    'learning_rate': Real(0.01, 0.2, prior='uniform')\n",
    "}\n",
    "\n",
    "# Initialize Bayesian Optimization for CatBoost Regressor\n",
    "bayes_search_catboost = BayesSearchCV(\n",
    "    CatBoostRegressor(verbose=0),\n",
    "    param_dist,\n",
    "    scoring='neg_mean_squared_error',\n",
    "    cv=5,\n",
    "    n_iter=10,  # Adjust the number of iterations as needed\n",
    "    random_state=42,  # Set a seed for reproducibility\n",
    "    n_jobs=-1,  # Use multiple cores for parallelization\n",
    "    verbose=1,  # Print progress\n",
    "    n_points=5,  # Number of points to sample in each iteration\n",
    "    refit=True  # Refit the best estimator with the entire dataset\n",
    ")\n",
    "\n",
    "# Perform Bayesian Optimization\n",
    "bayes_search_catboost.fit(X_train, y_train)\n",
    "\n",
    "# Get the best hyperparameters and model for CatBoost Regressor\n",
    "best_catboost = bayes_search_catboost.best_estimator_\n",
    "best_params_catboost = bayes_search_catboost.best_params_\n",
    "\n",
    "# Predict on validation set using CatBoost Regressor\n",
    "catboost_pred_val = best_catboost.predict(X_val)\n",
    "\n",
    "# Calculate metrics for CatBoost Regressor on validation set\n",
    "catboost_rmse_val = mean_squared_error(y_val, catboost_pred_val, squared=False)\n",
    "catboost_mae_val = mean_absolute_error(y_val, catboost_pred_val)\n",
    "catboost_r2_val = r2_score(y_val, catboost_pred_val)\n",
    "\n",
    "# Print the best hyperparameters and evaluation metrics for CatBoost Regressor on validation set\n",
    "print(\"Best Hyperparameters for CatBoost Regressor:\", best_params_catboost)\n",
    "print(\"CatBoost RMSE (Validation):\", catboost_rmse_val)\n",
    "print(\"CatBoost MAE (Validation):\", catboost_mae_val)\n",
    "print(\"CatBoost R-squared (Validation):\", catboost_r2_val)\n"
   ]
  },
  {
   "cell_type": "markdown",
   "id": "5bdb836b",
   "metadata": {},
   "source": [
    "## 8. LightGBM Regressor HPT"
   ]
  },
  {
   "cell_type": "code",
   "execution_count": 20,
   "id": "6c565915",
   "metadata": {},
   "outputs": [
    {
     "name": "stdout",
     "output_type": "stream",
     "text": [
      "Fitting 5 folds for each of 5 candidates, totalling 25 fits\n",
      "Fitting 5 folds for each of 5 candidates, totalling 25 fits\n",
      "Best Hyperparameters for LightGBM Regressor: OrderedDict([('learning_rate', 0.19116122853606082), ('max_depth', 4), ('n_estimators', 298)])\n",
      "LightGBM RMSE (Validation): 0.0019405998496183022\n",
      "LightGBM MAE (Validation): 0.0014330161452115664\n",
      "LightGBM R-squared (Validation): 0.9999959226655749\n"
     ]
    }
   ],
   "source": [
    "from lightgbm import LGBMRegressor\n",
    "from skopt import BayesSearchCV\n",
    "from skopt.space import Real, Integer, Categorical\n",
    "from sklearn.metrics import mean_squared_error, mean_absolute_error, r2_score\n",
    "\n",
    "# Define the search space for hyperparameters\n",
    "param_dist = {\n",
    "    'n_estimators': Integer(100, 300),\n",
    "    'max_depth': Integer(3, 5),\n",
    "    'learning_rate': Real(0.01, 0.2, prior='uniform')\n",
    "}\n",
    "\n",
    "# Initialize Bayesian Optimization for LightGBM Regressor\n",
    "bayes_search_lgb = BayesSearchCV(\n",
    "    LGBMRegressor(verbosity=-1),  # Set verbosity to -1 to suppress warnings\n",
    "    param_dist,\n",
    "    scoring='neg_mean_squared_error',\n",
    "    cv=5,\n",
    "    n_iter=10,  # Adjust the number of iterations as needed\n",
    "    random_state=42,  # Set a seed for reproducibility\n",
    "    n_jobs=-1,  # Use multiple cores for parallelization\n",
    "    verbose=1,  # Print progress\n",
    "    n_points=5,  # Number of points to sample in each iteration\n",
    "    refit=True  # Refit the best estimator with the entire dataset\n",
    ")\n",
    "\n",
    "# Perform Bayesian Optimization\n",
    "bayes_search_lgb.fit(X_train, y_train)\n",
    "\n",
    "# Get the best hyperparameters and model for LightGBM Regressor\n",
    "best_lgb = bayes_search_lgb.best_estimator_\n",
    "best_params_lgb = bayes_search_lgb.best_params_\n",
    "\n",
    "# Predict on validation set using LightGBM Regressor\n",
    "lgb_pred_val = best_lgb.predict(X_val)\n",
    "\n",
    "# Calculate metrics for LightGBM Regressor on validation set\n",
    "lgb_rmse_val = mean_squared_error(y_val, lgb_pred_val, squared=False)\n",
    "lgb_mae_val = mean_absolute_error(y_val, lgb_pred_val)\n",
    "lgb_r2_val = r2_score(y_val, lgb_pred_val)\n",
    "\n",
    "# Print the best hyperparameters and evaluation metrics for LightGBM Regressor on validation set\n",
    "print(\"Best Hyperparameters for LightGBM Regressor:\", best_params_lgb)\n",
    "print(\"LightGBM RMSE (Validation):\", lgb_rmse_val)\n",
    "print(\"LightGBM MAE (Validation):\", lgb_mae_val)\n",
    "print(\"LightGBM R-squared (Validation):\", lgb_r2_val)"
   ]
  },
  {
   "cell_type": "markdown",
   "id": "df17c84a",
   "metadata": {},
   "source": [
    "## 9. Gradient Boosting Regressor HPT"
   ]
  },
  {
   "cell_type": "code",
   "execution_count": 21,
   "id": "25c67431",
   "metadata": {},
   "outputs": [
    {
     "name": "stdout",
     "output_type": "stream",
     "text": [
      "Fitting 5 folds for each of 5 candidates, totalling 25 fits\n",
      "Fitting 5 folds for each of 5 candidates, totalling 25 fits\n",
      "Best Hyperparameters for Gradient Boosting Regressor: OrderedDict([('learning_rate', 0.19116122853606082), ('max_depth', 4), ('n_estimators', 298)])\n",
      "Gradient Boosting RMSE (Validation): 0.001857784084189555\n",
      "Gradient Boosting MAE (Validation): 0.0014654263503862078\n",
      "Gradient Boosting R-squared (Validation): 0.9999962632432902\n"
     ]
    }
   ],
   "source": [
    "from sklearn.ensemble import GradientBoostingRegressor\n",
    "from skopt import BayesSearchCV\n",
    "from skopt.space import Real, Integer\n",
    "\n",
    "# Define the search space for hyperparameters\n",
    "param_dist = {\n",
    "    'n_estimators': Integer(100, 300),\n",
    "    'max_depth': Integer(3, 5),\n",
    "    'learning_rate': Real(0.01, 0.2, prior='uniform')\n",
    "}\n",
    "\n",
    "# Initialize Bayesian Optimization for Gradient Boosting Regressor\n",
    "bayes_search_gbr = BayesSearchCV(\n",
    "    GradientBoostingRegressor(),\n",
    "    param_dist,\n",
    "    scoring='neg_mean_squared_error',\n",
    "    cv=5,\n",
    "    n_iter=10,  # Adjust the number of iterations as needed\n",
    "    random_state=42,  # Set a seed for reproducibility\n",
    "    n_jobs=-1,  # Use multiple cores for parallelization\n",
    "    verbose=1,  # Print progress\n",
    "    n_points=5,  # Number of points to sample in each iteration\n",
    "    refit=True  # Refit the best estimator with the entire dataset\n",
    ")\n",
    "\n",
    "# Perform Bayesian Optimization\n",
    "bayes_search_gbr.fit(X_train, y_train)\n",
    "\n",
    "# Get the best hyperparameters and model for Gradient Boosting Regressor\n",
    "best_gbr = bayes_search_gbr.best_estimator_\n",
    "best_params_gbr = bayes_search_gbr.best_params_\n",
    "\n",
    "# Predict on validation set using Gradient Boosting Regressor\n",
    "gbr_pred_val = best_gbr.predict(X_val)\n",
    "\n",
    "# Calculate metrics for Gradient Boosting Regressor on validation set\n",
    "gbr_rmse_val = mean_squared_error(y_val, gbr_pred_val, squared=False)\n",
    "gbr_mae_val = mean_absolute_error(y_val, gbr_pred_val)\n",
    "gbr_r2_val = r2_score(y_val, gbr_pred_val)\n",
    "\n",
    "# Print the best hyperparameters and evaluation metrics for Gradient Boosting Regressor on validation set\n",
    "print(\"Best Hyperparameters for Gradient Boosting Regressor:\", best_params_gbr)\n",
    "print(\"Gradient Boosting RMSE (Validation):\", gbr_rmse_val)\n",
    "print(\"Gradient Boosting MAE (Validation):\", gbr_mae_val)\n",
    "print(\"Gradient Boosting R-squared (Validation):\", gbr_r2_val)\n"
   ]
  },
  {
   "cell_type": "markdown",
   "id": "aba6037e",
   "metadata": {},
   "source": [
    "## 10.Ridge Regression HPT"
   ]
  },
  {
   "cell_type": "code",
   "execution_count": 22,
   "id": "1c45cbd3",
   "metadata": {
    "scrolled": false
   },
   "outputs": [
    {
     "name": "stdout",
     "output_type": "stream",
     "text": [
      "Best Hyperparameters for Ridge Regression: {'alpha': 0.1, 'solver': 'auto'}\n",
      "Ridge Regression RMSE: 0.8905456243720922\n",
      "Ridge Regression MAE: 0.7118712696463905\n",
      "Ridge Regression R-squared: 0.1413489695917577\n"
     ]
    }
   ],
   "source": [
    "from sklearn.model_selection import GridSearchCV\n",
    "from sklearn.linear_model import Ridge\n",
    "from sklearn.metrics import mean_squared_error, mean_absolute_error, r2_score\n",
    "\n",
    "# Define the hyperparameters and their possible values for Ridge Regression\n",
    "param_grid = {'alpha': [0.001, 0.01, 0.1, 1, 10, 100],\n",
    "             'solver': ['auto', 'svd', 'cholesky', 'lsqr', 'sparse_cg', 'sag', 'saga']} \n",
    "\n",
    "# Initialize Ridge model\n",
    "ridge = Ridge(max_iter=10000)\n",
    "\n",
    "# Initialize Grid Search\n",
    "grid_search_ridge = GridSearchCV(ridge, param_grid, scoring='neg_mean_squared_error', cv=5)\n",
    "\n",
    "# Train the Grid Search\n",
    "grid_search_ridge.fit(X_train, y_train)\n",
    "\n",
    "# Get the best parameters and model for Ridge Regression\n",
    "best_ridge = grid_search_ridge.best_estimator_\n",
    "best_params_ridge = grid_search_ridge.best_params_\n",
    "\n",
    "# Predict on validation set using Ridge Regression\n",
    "ridge_pred = best_ridge.predict(X_val)\n",
    "\n",
    "# Calculate metrics for Ridge Regression\n",
    "ridge_rmse = mean_squared_error(y_val, ridge_pred, squared=False)\n",
    "ridge_mae = mean_absolute_error(y_val, ridge_pred)\n",
    "ridge_r2 = r2_score(y_val, ridge_pred)\n",
    "\n",
    "# Print the best hyperparameters and evaluation metrics for Ridge Regression\n",
    "print(\"Best Hyperparameters for Ridge Regression:\", best_params_ridge)\n",
    "print(\"Ridge Regression RMSE:\", ridge_rmse)\n",
    "print(\"Ridge Regression MAE:\", ridge_mae)\n",
    "print(\"Ridge Regression R-squared:\", ridge_r2)"
   ]
  },
  {
   "cell_type": "markdown",
   "id": "1d42f73d",
   "metadata": {},
   "source": [
    "# Hybrid models"
   ]
  },
  {
   "cell_type": "code",
   "execution_count": 23,
   "id": "5a53d567",
   "metadata": {},
   "outputs": [
    {
     "name": "stdout",
     "output_type": "stream",
     "text": [
      "Ensemble RMSE (Validation): 0.11336272509156149\n",
      "Ensemble MAE (Validation): 0.09076316368302619\n",
      "Ensemble R-squared (Validation): 0.9860862273843537\n"
     ]
    }
   ],
   "source": [
    "import numpy as np\n",
    "\n",
    "# Define the weighted average ensemble\n",
    "def weighted_average_ensemble(models, weights, X):\n",
    "    predictions = np.column_stack([model.predict(X) for model in models])\n",
    "    weighted_predictions = np.sum(predictions * weights, axis=1) / np.sum(weights)\n",
    "    return weighted_predictions\n",
    "\n",
    "# Define the models and their corresponding weights for the ensemble\n",
    "models = [best_rf, best_lwlr, best_gpr, best_wknn, best_xgb, best_catboost, best_gbr, best_ridge]\n",
    "weights = [1, 1, 1, 1, 1, 1, 1, 1]  # Adjust weights as needed\n",
    "\n",
    "# Predict on the validation set using the ensemble\n",
    "ensemble_pred_val = weighted_average_ensemble(models, weights, X_val)\n",
    "\n",
    "# Calculate metrics for the ensemble on the validation set\n",
    "ensemble_rmse_val = mean_squared_error(y_val, ensemble_pred_val, squared=False)\n",
    "ensemble_mae_val = mean_absolute_error(y_val, ensemble_pred_val)\n",
    "ensemble_r2_val = r2_score(y_val, ensemble_pred_val)\n",
    "\n",
    "# Print evaluation metrics for the ensemble\n",
    "print(\"Ensemble RMSE (Validation):\", ensemble_rmse_val)\n",
    "print(\"Ensemble MAE (Validation):\", ensemble_mae_val)\n",
    "print(\"Ensemble R-squared (Validation):\", ensemble_r2_val)"
   ]
  },
  {
   "cell_type": "code",
   "execution_count": 24,
   "id": "f0a765c3",
   "metadata": {},
   "outputs": [
    {
     "name": "stdout",
     "output_type": "stream",
     "text": [
      "Hybrid RMSE (Validation): 0.20666119171551256\n",
      "Hybrid MAE (Validation): 0.18569168744155565\n",
      "Hybrid R-squared (Validation): 0.9537595335843208\n"
     ]
    }
   ],
   "source": [
    "# Define the weights for each model\n",
    "weight_rf = 0.2\n",
    "weight_lwlr = 0.2\n",
    "weight_gpr = 0.1\n",
    "weight_wknn = 0.1\n",
    "weight_knn = 0.1\n",
    "weight_xgb = 0.05\n",
    "weight_catboost = 0.05\n",
    "weight_lgb = 0.05\n",
    "weight_gbr = 0.05\n",
    "weight_ridge = 0.05\n",
    "\n",
    "# Create hybrid predictions\n",
    "hybrid_pred_val = (\n",
    "    weight_rf * rf_pred_val +\n",
    "    weight_lwlr * lwlr_pred_val +\n",
    "    weight_gpr * gpr_pred_val +\n",
    "    weight_wknn * wknn_pred_val +\n",
    "    weight_knn * knn_pred_val +\n",
    "    weight_xgb * xgb_pred_val +\n",
    "    weight_catboost * catboost_pred_val +\n",
    "    weight_lgb * lgb_pred_val +\n",
    "    weight_gbr * gbr_pred_val +\n",
    "    weight_ridge * ridge_pred_val\n",
    ")\n",
    "\n",
    "# Calculate metrics for the hybrid model on validation set\n",
    "hybrid_rmse_val = mean_squared_error(y_val, hybrid_pred_val, squared=False)\n",
    "hybrid_mae_val = mean_absolute_error(y_val, hybrid_pred_val)\n",
    "hybrid_r2_val = r2_score(y_val, hybrid_pred_val)\n",
    "\n",
    "# Print evaluation metrics for the hybrid model on validation set\n",
    "print(\"Hybrid RMSE (Validation):\", hybrid_rmse_val)\n",
    "print(\"Hybrid MAE (Validation):\", hybrid_mae_val)\n",
    "print(\"Hybrid R-squared (Validation):\", hybrid_r2_val)"
   ]
  },
  {
   "cell_type": "code",
   "execution_count": 25,
   "id": "e024242b",
   "metadata": {},
   "outputs": [
    {
     "name": "stdout",
     "output_type": "stream",
     "text": [
      "Hybrid Model 4 (GBR + CatBoost) RMSE: 0.000992061545343087\n",
      "Hybrid Model 4 (GBR + CatBoost) MAE: 0.0007822057391331829\n",
      "Hybrid Model 4 (GBR + CatBoost) R-squared: 0.999998934430997\n"
     ]
    }
   ],
   "source": [
    "# Assuming you already have predictions for gbr_pred_val and catboost_pred_val\n",
    "hybrid4_pred_val = (gbr_pred_val + catboost_pred_val) / 2\n",
    "\n",
    "# Evaluate the performance of Hybrid Model 4\n",
    "hybrid4_rmse_val = mean_squared_error(y_val, hybrid4_pred_val, squared=False)\n",
    "hybrid4_mae_val = mean_absolute_error(y_val, hybrid4_pred_val)\n",
    "hybrid4_r2_val = r2_score(y_val, hybrid4_pred_val)\n",
    "\n",
    "print(\"Hybrid Model 4 (GBR + CatBoost) RMSE:\", hybrid4_rmse_val)\n",
    "print(\"Hybrid Model 4 (GBR + CatBoost) MAE:\", hybrid4_mae_val)\n",
    "print(\"Hybrid Model 4 (GBR + CatBoost) R-squared:\", hybrid4_r2_val)\n"
   ]
  },
  {
   "cell_type": "code",
   "execution_count": 26,
   "id": "e0c51be9",
   "metadata": {},
   "outputs": [
    {
     "name": "stdout",
     "output_type": "stream",
     "text": [
      "Hybrid Model 4 (Ridge + LWLR) RMSE: 0.4452564209055543\n",
      "Hybrid Model 4 (Ridge + LWLR) MAE: 0.35594573608126245\n",
      "Hybrid Model 4 (Ridge + LWLR) R-squared: 0.7853530463393066\n"
     ]
    }
   ],
   "source": [
    "# Assuming you already have predictions for ridge_pred_val and lwlr_pred_val\n",
    "hybrid4_pred_val = (ridge_pred_val + lwlr_pred_val) / 2\n",
    "\n",
    "# Calculate metrics for the hybrid model on validation set\n",
    "hybrid4_rmse_val = mean_squared_error(y_val, hybrid4_pred_val, squared=False)\n",
    "hybrid4_mae_val = mean_absolute_error(y_val, hybrid4_pred_val)\n",
    "hybrid4_r2_val = r2_score(y_val, hybrid4_pred_val)\n",
    "\n",
    "# Print evaluation metrics for Hybrid Model 4\n",
    "print(\"Hybrid Model 4 (Ridge + LWLR) RMSE:\", hybrid4_rmse_val)\n",
    "print(\"Hybrid Model 4 (Ridge + LWLR) MAE:\", hybrid4_mae_val)\n",
    "print(\"Hybrid Model 4 (Ridge + LWLR) R-squared:\", hybrid4_r2_val)\n"
   ]
  },
  {
   "cell_type": "code",
   "execution_count": 27,
   "id": "da3e2ebe",
   "metadata": {},
   "outputs": [
    {
     "name": "stdout",
     "output_type": "stream",
     "text": [
      "Hybrid Model 4 (RF + LWLR + GPR + WKNN) RMSE: 4.008948691065966e-12\n",
      "Hybrid Model 4 (RF + LWLR + GPR + WKNN) MAE: 3.808065582389283e-12\n",
      "Hybrid Model 4 (RF + LWLR + GPR + WKNN) R-squared: 1.0\n"
     ]
    }
   ],
   "source": [
    "# Assuming you already have predictions for rf_pred_val, lwlr_pred_val, gpr_pred_val, and wknn_pred_val\n",
    "hybrid4_pred_val = (rf_pred_val + lwlr_pred_val + gpr_pred_val + wknn_pred_val) / 4\n",
    "\n",
    "# Calculate metrics for the hybrid model on validation set\n",
    "hybrid4_rmse_val = mean_squared_error(y_val, hybrid4_pred_val, squared=False)\n",
    "hybrid4_mae_val = mean_absolute_error(y_val, hybrid4_pred_val)\n",
    "hybrid4_r2_val = r2_score(y_val, hybrid4_pred_val)\n",
    "\n",
    "# Print evaluation metrics for Hybrid Model 4\n",
    "print(\"Hybrid Model 4 (RF + LWLR + GPR + WKNN) RMSE:\", hybrid4_rmse_val)\n",
    "print(\"Hybrid Model 4 (RF + LWLR + GPR + WKNN) MAE:\", hybrid4_mae_val)\n",
    "print(\"Hybrid Model 4 (RF + LWLR + GPR + WKNN) R-squared:\", hybrid4_r2_val)\n"
   ]
  },
  {
   "cell_type": "code",
   "execution_count": 28,
   "id": "42d7c670",
   "metadata": {},
   "outputs": [
    {
     "name": "stdout",
     "output_type": "stream",
     "text": [
      "Hybrid Model 4 (XGB + CatBoost + GBR + Ridge) RMSE: 0.22671713558361248\n",
      "Hybrid Model 4 (XGB + CatBoost + GBR + Ridge) MAE: 0.18154868526038578\n",
      "Hybrid Model 4 (XGB + CatBoost + GBR + Ridge) R-squared: 0.9443489914903003\n"
     ]
    }
   ],
   "source": [
    "# Assuming you already have predictions for xgb_pred_val, catboost_pred_val, gbr_pred_val, and ridge_pred_val\n",
    "hybrid4_pred_val = (xgb_pred_val + catboost_pred_val + gbr_pred_val + ridge_pred_val) / 4\n",
    "\n",
    "# Calculate metrics for the hybrid model on validation set\n",
    "hybrid4_rmse_val = mean_squared_error(y_val, hybrid4_pred_val, squared=False)\n",
    "hybrid4_mae_val = mean_absolute_error(y_val, hybrid4_pred_val)\n",
    "hybrid4_r2_val = r2_score(y_val, hybrid4_pred_val)\n",
    "\n",
    "# Print evaluation metrics for Hybrid Model 4\n",
    "print(\"Hybrid Model 4 (XGB + CatBoost + GBR + Ridge) RMSE:\", hybrid4_rmse_val)\n",
    "print(\"Hybrid Model 4 (XGB + CatBoost + GBR + Ridge) MAE:\", hybrid4_mae_val)\n",
    "print(\"Hybrid Model 4 (XGB + CatBoost + GBR + Ridge) R-squared:\", hybrid4_r2_val)\n"
   ]
  },
  {
   "cell_type": "code",
   "execution_count": 29,
   "id": "3f9eb4b8",
   "metadata": {},
   "outputs": [
    {
     "name": "stdout",
     "output_type": "stream",
     "text": [
      "Hybrid Model 6 (Random Forest + LWLR) RMSE: 1.325003385716522e-15\n",
      "Hybrid Model 6 (Random Forest + LWLR) MAE: 1.090009518495773e-15\n",
      "Hybrid Model 6 (Random Forest + LWLR) R-squared: 1.0\n"
     ]
    }
   ],
   "source": [
    "# Assuming you already have predictions for rf_pred_val and lwlr_pred_val\n",
    "hybrid6_pred_val = (rf_pred_val + lwlr_pred_val) / 2\n",
    "\n",
    "# Evaluate the performance of Hybrid Model 6\n",
    "hybrid6_rmse_val = mean_squared_error(y_val, hybrid6_pred_val, squared=False)\n",
    "hybrid6_mae_val = mean_absolute_error(y_val, hybrid6_pred_val)\n",
    "hybrid6_r2_val = r2_score(y_val, hybrid6_pred_val)\n",
    "\n",
    "print(\"Hybrid Model 6 (Random Forest + LWLR) RMSE:\", hybrid6_rmse_val)\n",
    "print(\"Hybrid Model 6 (Random Forest + LWLR) MAE:\", hybrid6_mae_val)\n",
    "print(\"Hybrid Model 6 (Random Forest + LWLR) R-squared:\", hybrid6_r2_val)"
   ]
  },
  {
   "cell_type": "code",
   "execution_count": 30,
   "id": "82e8ae32",
   "metadata": {},
   "outputs": [
    {
     "name": "stdout",
     "output_type": "stream",
     "text": [
      "Hybrid Model 7 (RF + LightGBM + CatBoost) RMSE: 0.0006179739692433224\n",
      "Hybrid Model 7 (RF + LightGBM + CatBoost) MAE: 0.0004591276352936668\n",
      "Hybrid Model 7 (RF + LightGBM + CatBoost) R-squared: 0.9999995865293272\n"
     ]
    }
   ],
   "source": [
    "# Assuming you have rf_pred_val, lgb_pred_val, and catboost_pred_val\n",
    "\n",
    "# Define weights for models (you can adjust these)\n",
    "weight_rf = 0.4\n",
    "weight_lgb = 0.3\n",
    "weight_catboost = 0.3\n",
    "\n",
    "# Combine predictions\n",
    "hybrid7_pred = (weight_rf * rf_pred_val + weight_lgb * lgb_pred_val + weight_catboost * catboost_pred_val)\n",
    "\n",
    "# Evaluate the performance of Hybrid Model 7\n",
    "hybrid7_rmse = mean_squared_error(y_val, hybrid7_pred, squared=False)\n",
    "hybrid7_mae = mean_absolute_error(y_val, hybrid7_pred)\n",
    "hybrid7_r2 = r2_score(y_val, hybrid7_pred)\n",
    "\n",
    "print(\"Hybrid Model 7 (RF + LightGBM + CatBoost) RMSE:\", hybrid7_rmse)\n",
    "print(\"Hybrid Model 7 (RF + LightGBM + CatBoost) MAE:\", hybrid7_mae)\n",
    "print(\"Hybrid Model 7 (RF + LightGBM + CatBoost) R-squared:\", hybrid7_r2)\n"
   ]
  },
  {
   "cell_type": "code",
   "execution_count": 31,
   "id": "be7fa830",
   "metadata": {},
   "outputs": [
    {
     "name": "stdout",
     "output_type": "stream",
     "text": [
      "Hybrid Model 8 (Stacking Ensemble) RMSE: 0.0011562756101092973\n",
      "Hybrid Model 8 (Stacking Ensemble) MAE: 0.0008817528274296396\n",
      "Hybrid Model 8 (Stacking Ensemble) R-squared: 0.9999985524716536\n"
     ]
    }
   ],
   "source": [
    "from sklearn.linear_model import LinearRegression\n",
    "\n",
    "# Assuming you have xgb_pred_val, gbr_pred_val, and lgb_pred_val\n",
    "\n",
    "# Initialize the Meta-model (you can choose a different one if desired)\n",
    "meta_model = LinearRegression()\n",
    "\n",
    "# Create the training set for the meta-model\n",
    "meta_X_train = np.column_stack((xgb_pred_val, gbr_pred_val, lgb_pred_val))\n",
    "\n",
    "# Train the Meta-model\n",
    "meta_model.fit(meta_X_train, y_val)\n",
    "\n",
    "# Create the test set for the meta-model\n",
    "meta_X_val = np.column_stack((xgb_pred_val, gbr_pred_val, lgb_pred_val))\n",
    "\n",
    "# Predict using the Meta-model\n",
    "hybrid8_pred = meta_model.predict(meta_X_val)\n",
    "\n",
    "# Evaluate the performance of Hybrid Model 8\n",
    "hybrid8_rmse = mean_squared_error(y_val, hybrid8_pred, squared=False)\n",
    "hybrid8_mae = mean_absolute_error(y_val, hybrid8_pred)\n",
    "hybrid8_r2 = r2_score(y_val, hybrid8_pred)\n",
    "\n",
    "print(\"Hybrid Model 8 (Stacking Ensemble) RMSE:\", hybrid8_rmse)\n",
    "print(\"Hybrid Model 8 (Stacking Ensemble) MAE:\", hybrid8_mae)\n",
    "print(\"Hybrid Model 8 (Stacking Ensemble) R-squared:\", hybrid8_r2)\n"
   ]
  },
  {
   "cell_type": "code",
   "execution_count": 32,
   "id": "ba0b90c9",
   "metadata": {},
   "outputs": [
    {
     "name": "stdout",
     "output_type": "stream",
     "text": [
      "Weighted Average RMSE (Validation): 0.09077792548779577\n",
      "Weighted Average MAE (Validation): 0.07270036510251407\n",
      "Weighted Average R-squared (Validation): 0.991077945850652\n"
     ]
    }
   ],
   "source": [
    "# Assuming you have predictions from all your tuned models stored in variables\n",
    "# rf_pred_val, lwlr_pred_val, poly_kernel_pred_val, rbf_kernel_pred_val, gpr_pred_val, wknn_pred_val, knn_pred_val, xgb_pred_val, catboost_pred_val, lgb_pred_val, gbr_pred_val, ridge_pred_val\n",
    "\n",
    "# Define weights for each model (you can adjust these)\n",
    "weights = {\n",
    "    'rf': 0.1,\n",
    "    'lwlr': 0.1,\n",
    "    'gpr': 0.1,\n",
    "    'wknn': 0.1,\n",
    "    'knn': 0.1,\n",
    "    'xgb': 0.1,\n",
    "    'catboost': 0.1,\n",
    "    'lgb': 0.1,\n",
    "    'gbr': 0.1,\n",
    "    'ridge': 0.1\n",
    "}\n",
    "\n",
    "# List of model predictions\n",
    "predictions = [\n",
    "    rf_pred_val, lwlr_pred_val, \n",
    "    gpr_pred_val, wknn_pred_val, knn_pred_val, xgb_pred_val, catboost_pred_val,\n",
    "    lgb_pred_val, gbr_pred_val, ridge_pred_val\n",
    "]\n",
    "\n",
    "# Initialize an array to store the weighted predictions\n",
    "weighted_predictions = np.zeros_like(rf_pred_val)\n",
    "\n",
    "# Combine predictions with weights\n",
    "for model_pred, weight in zip(predictions, weights.values()):\n",
    "    weighted_predictions += model_pred * weight\n",
    "\n",
    "# Calculate metrics for the weighted predictions\n",
    "weighted_rmse_val = mean_squared_error(y_val, weighted_predictions, squared=False)\n",
    "weighted_mae_val = mean_absolute_error(y_val, weighted_predictions)\n",
    "weighted_r2_val = r2_score(y_val, weighted_predictions)\n",
    "\n",
    "# Print the evaluation metrics for the weighted predictions\n",
    "print(\"Weighted Average RMSE (Validation):\", weighted_rmse_val)\n",
    "print(\"Weighted Average MAE (Validation):\", weighted_mae_val)\n",
    "print(\"Weighted Average R-squared (Validation):\", weighted_r2_val)\n"
   ]
  },
  {
   "cell_type": "markdown",
   "id": "a2f9506f",
   "metadata": {},
   "source": [
    "# Testing using test set"
   ]
  },
  {
   "cell_type": "code",
   "execution_count": 33,
   "id": "4229c89d",
   "metadata": {},
   "outputs": [],
   "source": [
    "X_test = df.loc[(df['Date'].dt.year >= 1993) & (df['Date'].dt.year <= 2012)].drop(columns=['Saidpur-29 (Nilphamari)', 'Date']).to_numpy()\n",
    "y_test = df.loc[(df['Date'].dt.year >= 1993) & (df['Date'].dt.year <= 2012)]['Saidpur-29 (Nilphamari)'].to_numpy()"
   ]
  },
  {
   "cell_type": "code",
   "execution_count": 34,
   "id": "b594c43c",
   "metadata": {
    "scrolled": true
   },
   "outputs": [
    {
     "name": "stdout",
     "output_type": "stream",
     "text": [
      "Hybrid Model 5 (XGB + CatBoost + GBR + Ridge) RMSE (Test): 0.22131954297406128\n",
      "Hybrid Model 5 (XGB + CatBoost + GBR + Ridge) MAE (Test): 0.1774815571462112\n",
      "Hybrid Model 5 (XGB + CatBoost + GBR + Ridge) R-squared (Test): 0.9445505275367376\n"
     ]
    }
   ],
   "source": [
    "# Assuming you already have the hybrid model (hybrid5_pred_val) and X_test, y_test from the previous cell\n",
    "\n",
    "# Predict on the test set using the hybrid model\n",
    "hybrid5_pred_test = (best_xgb.predict(X_test) + best_catboost.predict(X_test) + best_gbr.predict(X_test) + best_ridge.predict(X_test)) / 4\n",
    "\n",
    "# Calculate metrics for the hybrid model on the test set\n",
    "hybrid5_rmse_test = mean_squared_error(y_test, hybrid5_pred_test, squared=False)\n",
    "hybrid5_mae_test = mean_absolute_error(y_test, hybrid5_pred_test)\n",
    "hybrid5_r2_test = r2_score(y_test, hybrid5_pred_test)\n",
    "\n",
    "# Print evaluation metrics for the hybrid model on the test set\n",
    "print(\"Hybrid Model 5 (XGB + CatBoost + GBR + Ridge) RMSE (Test):\", hybrid5_rmse_test)\n",
    "print(\"Hybrid Model 5 (XGB + CatBoost + GBR + Ridge) MAE (Test):\", hybrid5_mae_test)\n",
    "print(\"Hybrid Model 5 (XGB + CatBoost + GBR + Ridge) R-squared (Test):\", hybrid5_r2_test)\n"
   ]
  },
  {
   "cell_type": "code",
   "execution_count": 35,
   "id": "4653c8bc",
   "metadata": {},
   "outputs": [
    {
     "name": "stdout",
     "output_type": "stream",
     "text": [
      "Hybrid RMSE (Test): 0.044351171049461784\n",
      "Hybrid MAE (Test): 0.035573039064175103\n",
      "Hybrid R-squared (Test): 0.9977732673755086\n"
     ]
    }
   ],
   "source": [
    "from sklearn.metrics import mean_squared_error, mean_absolute_error, r2_score\n",
    "\n",
    "# Assuming you have predictions for each best model on the test set\n",
    "# e.g., best_rf_pred_test, best_lwlr_pred_test, etc.\n",
    "\n",
    "# Define the weights for each model\n",
    "weight_rf = 0.2\n",
    "weight_lwlr = 0.2\n",
    "weight_gpr = 0.1\n",
    "weight_wknn = 0.1\n",
    "weight_knn = 0.1\n",
    "weight_xgb = 0.05\n",
    "weight_catboost = 0.05\n",
    "weight_lgb = 0.05\n",
    "weight_gbr = 0.1\n",
    "weight_ridge = 0.05\n",
    "\n",
    "# Assuming you have predictions for each best model on the test set (e.g., best_rf_pred_test, best_lwlr_pred_test, etc.)\n",
    "best_rf_pred_test = best_rf.predict(X_test)\n",
    "best_lwlr_pred_test = best_lwlr.predict(X_test)\n",
    "best_gpr_pred_test = best_gpr.predict(X_test)\n",
    "best_wknn_pred_test = best_wknn.predict(X_test)\n",
    "best_knn_pred_test = best_knn.predict(X_test)\n",
    "best_xgb_pred_test = best_xgb.predict(X_test)\n",
    "best_catboost_pred_test = best_catboost.predict(X_test)\n",
    "best_lgb_pred_test = best_lgb.predict(X_test)\n",
    "best_gbr_pred_test = best_gbr.predict(X_test)\n",
    "best_ridge_pred_test = best_ridge.predict(X_test)\n",
    "\n",
    "# Create hybrid predictions for the test set\n",
    "hybrid_pred_test = (\n",
    "    weight_rf * best_rf_pred_test +\n",
    "    weight_lwlr * best_lwlr_pred_test +\n",
    "    weight_gpr * best_gpr_pred_test +\n",
    "    weight_wknn * best_wknn_pred_test +\n",
    "    weight_knn * best_knn_pred_test +\n",
    "    weight_xgb * best_xgb_pred_test +\n",
    "    weight_catboost * best_catboost_pred_test +\n",
    "    weight_lgb * best_lgb_pred_test +\n",
    "    weight_gbr * best_gbr_pred_test +\n",
    "    weight_ridge * best_ridge_pred_test\n",
    ")\n",
    "\n",
    "# Calculate metrics for the hybrid model on the test set\n",
    "hybrid_rmse_test = mean_squared_error(y_test, hybrid_pred_test, squared=False)\n",
    "hybrid_mae_test = mean_absolute_error(y_test, hybrid_pred_test)\n",
    "hybrid_r2_test = r2_score(y_test, hybrid_pred_test)\n",
    "\n",
    "# Print evaluation metrics for the hybrid model on the test set\n",
    "print(\"Hybrid RMSE (Test):\", hybrid_rmse_test)\n",
    "print(\"Hybrid MAE (Test):\", hybrid_mae_test)\n",
    "print(\"Hybrid R-squared (Test):\", hybrid_r2_test)\n"
   ]
  },
  {
   "cell_type": "code",
   "execution_count": 36,
   "id": "fd93872b",
   "metadata": {},
   "outputs": [
    {
     "name": "stdout",
     "output_type": "stream",
     "text": [
      "Hybrid Model 4 (GBR + CatBoost) RMSE (Test): 0.0009402896298215814\n",
      "Hybrid Model 4 (GBR + CatBoost) MAE (Test): 0.0007401632017934934\n",
      "Hybrid Model 4 (GBR + CatBoost) R-squared (Test): 0.9999989991219105\n"
     ]
    }
   ],
   "source": [
    "# Assuming you have trained models: best_gbr and best_catboost\n",
    "\n",
    "# Predict on the test set using Gradient Boosting Regressor\n",
    "gbr_pred_test = best_gbr.predict(X_test)\n",
    "\n",
    "# Predict on the test set using CatBoost Regressor\n",
    "catboost_pred_test = best_catboost.predict(X_test)\n",
    "\n",
    "# Assuming you already have predictions for gbr_pred_test and catboost_pred_test\n",
    "hybrid4_pred_test = (gbr_pred_test + catboost_pred_test) / 2\n",
    "\n",
    "# Evaluate the performance of Hybrid Model 4 on the test set\n",
    "hybrid4_rmse_test = mean_squared_error(y_test, hybrid4_pred_test, squared=False)\n",
    "hybrid4_mae_test = mean_absolute_error(y_test, hybrid4_pred_test)\n",
    "hybrid4_r2_test = r2_score(y_test, hybrid4_pred_test)\n",
    "\n",
    "print(\"Hybrid Model 4 (GBR + CatBoost) RMSE (Test):\", hybrid4_rmse_test)\n",
    "print(\"Hybrid Model 4 (GBR + CatBoost) MAE (Test):\", hybrid4_mae_test)\n",
    "print(\"Hybrid Model 4 (GBR + CatBoost) R-squared (Test):\", hybrid4_r2_test)\n"
   ]
  },
  {
   "cell_type": "code",
   "execution_count": 37,
   "id": "8f6842ca",
   "metadata": {},
   "outputs": [
    {
     "name": "stdout",
     "output_type": "stream",
     "text": [
      "Hybrid Model 4 (GBR + CatBoost) RMSE (Test): 0.0009402896298215814\n",
      "Hybrid Model 4 (GBR + CatBoost) MAE (Test): 0.0007401632017934934\n",
      "Hybrid Model 4 (GBR + CatBoost) R-squared (Test): 0.9999989991219105\n"
     ]
    }
   ],
   "source": [
    "# Predict on the test set using Gradient Boosting Regressor\n",
    "gbr_pred_test = best_gbr.predict(X_test)\n",
    "\n",
    "# Predict on the test set using CatBoost Regressor\n",
    "catboost_pred_test = best_catboost.predict(X_test)\n",
    "\n",
    "# Assuming you already have predictions for gbr_pred_test and catboost_pred_test\n",
    "hybrid4_pred_test = (gbr_pred_test + catboost_pred_test) / 2\n",
    "\n",
    "# Evaluate the performance of Hybrid Model 4 on the test set\n",
    "hybrid4_rmse_test = mean_squared_error(y_test, hybrid4_pred_test, squared=False)\n",
    "hybrid4_mae_test = mean_absolute_error(y_test, hybrid4_pred_test)\n",
    "hybrid4_r2_test = r2_score(y_test, hybrid4_pred_test)\n",
    "\n",
    "print(\"Hybrid Model 4 (GBR + CatBoost) RMSE (Test):\", hybrid4_rmse_test)\n",
    "print(\"Hybrid Model 4 (GBR + CatBoost) MAE (Test):\", hybrid4_mae_test)\n",
    "print(\"Hybrid Model 4 (GBR + CatBoost) R-squared (Test):\", hybrid4_r2_test)\n"
   ]
  },
  {
   "cell_type": "code",
   "execution_count": 38,
   "id": "857f346c",
   "metadata": {},
   "outputs": [
    {
     "name": "stdout",
     "output_type": "stream",
     "text": [
      "Hybrid Model 4 (Ridge + LWLR) RMSE (Test): 0.43477502552058217\n",
      "Hybrid Model 4 (Ridge + LWLR) MAE (Test): 0.34815782551852226\n",
      "Hybrid Model 4 (Ridge + LWLR) R-squared (Test): 0.7860131588572784\n"
     ]
    }
   ],
   "source": [
    "from sklearn.metrics import mean_squared_error, mean_absolute_error, r2_score\n",
    "\n",
    "# Assuming you have trained models: best_ridge and best_lwlr\n",
    "\n",
    "# Predict on the test set using Ridge Regression\n",
    "ridge_pred_test = best_ridge.predict(X_test)\n",
    "\n",
    "# Predict on the test set using Locally Weighted Linear Regression\n",
    "lwlr_pred_test = best_lwlr.predict(X_test)\n",
    "\n",
    "# Assuming you already have predictions for ridge_pred_test and lwlr_pred_test\n",
    "hybrid4_pred_test = (ridge_pred_test + lwlr_pred_test) / 2\n",
    "\n",
    "# Calculate metrics for the hybrid model on test set\n",
    "hybrid4_rmse_test = mean_squared_error(y_test, hybrid4_pred_test, squared=False)\n",
    "hybrid4_mae_test = mean_absolute_error(y_test, hybrid4_pred_test)\n",
    "hybrid4_r2_test = r2_score(y_test, hybrid4_pred_test)\n",
    "\n",
    "# Print evaluation metrics for Hybrid Model 4\n",
    "print(\"Hybrid Model 4 (Ridge + LWLR) RMSE (Test):\", hybrid4_rmse_test)\n",
    "print(\"Hybrid Model 4 (Ridge + LWLR) MAE (Test):\", hybrid4_mae_test)\n",
    "print(\"Hybrid Model 4 (Ridge + LWLR) R-squared (Test):\", hybrid4_r2_test)\n"
   ]
  },
  {
   "cell_type": "code",
   "execution_count": 39,
   "id": "b90405ce",
   "metadata": {},
   "outputs": [
    {
     "name": "stdout",
     "output_type": "stream",
     "text": [
      "Hybrid Model 4 (RF + LWLR + GPR + WKNN) RMSE (Test): 3.880425961429262e-12\n",
      "Hybrid Model 4 (RF + LWLR + GPR + WKNN) MAE (Test): 3.700357322251992e-12\n",
      "Hybrid Model 4 (RF + LWLR + GPR + WKNN) R-squared (Test): 1.0\n"
     ]
    }
   ],
   "source": [
    "from sklearn.metrics import mean_squared_error, mean_absolute_error, r2_score\n",
    "\n",
    "# Assuming you have trained models: best_rf, best_lwlr, best_gpr, and best_wknn\n",
    "\n",
    "# Predict on the test set using Random Forest Regressor\n",
    "rf_pred_test = best_rf.predict(X_test)\n",
    "\n",
    "# Predict on the test set using Locally Weighted Linear Regression\n",
    "lwlr_pred_test = best_lwlr.predict(X_test)\n",
    "\n",
    "# Predict on the test set using Gaussian Process Regressor\n",
    "gpr_pred_test = best_gpr.predict(X_test)\n",
    "\n",
    "# Predict on the test set using Weighted k-Nearest Neighbors Regressor\n",
    "wknn_pred_test = best_wknn.predict(X_test)\n",
    "\n",
    "# Assuming you already have predictions for rf_pred_test, lwlr_pred_test, gpr_pred_test, and wknn_pred_test\n",
    "hybrid4_pred_test = (rf_pred_test + lwlr_pred_test + gpr_pred_test + wknn_pred_test) / 4\n",
    "\n",
    "# Calculate metrics for the hybrid model on test set\n",
    "hybrid4_rmse_test = mean_squared_error(y_test, hybrid4_pred_test, squared=False)\n",
    "hybrid4_mae_test = mean_absolute_error(y_test, hybrid4_pred_test)\n",
    "hybrid4_r2_test = r2_score(y_test, hybrid4_pred_test)\n",
    "\n",
    "# Print evaluation metrics for Hybrid Model 4\n",
    "print(\"Hybrid Model 4 (RF + LWLR + GPR + WKNN) RMSE (Test):\", hybrid4_rmse_test)\n",
    "print(\"Hybrid Model 4 (RF + LWLR + GPR + WKNN) MAE (Test):\", hybrid4_mae_test)\n",
    "print(\"Hybrid Model 4 (RF + LWLR + GPR + WKNN) R-squared (Test):\", hybrid4_r2_test)"
   ]
  },
  {
   "cell_type": "code",
   "execution_count": 40,
   "id": "0c3dca99",
   "metadata": {},
   "outputs": [
    {
     "name": "stdout",
     "output_type": "stream",
     "text": [
      "Hybrid Model 4 (XGB + CatBoost + GBR + Ridge) RMSE (Test): 0.22131954297406128\n",
      "Hybrid Model 4 (XGB + CatBoost + GBR + Ridge) MAE (Test): 0.1774815571462112\n",
      "Hybrid Model 4 (XGB + CatBoost + GBR + Ridge) R-squared (Test): 0.9445505275367376\n"
     ]
    }
   ],
   "source": [
    "from sklearn.metrics import mean_squared_error, mean_absolute_error, r2_score\n",
    "\n",
    "# Assuming you have trained models: best_xgb, best_catboost, best_gbr, and best_ridge\n",
    "\n",
    "# Predict on the test set using XGBoost Regressor\n",
    "xgb_pred_test = best_xgb.predict(X_test)\n",
    "\n",
    "# Predict on the test set using CatBoost Regressor\n",
    "catboost_pred_test = best_catboost.predict(X_test)\n",
    "\n",
    "# Predict on the test set using Gradient Boosting Regressor\n",
    "gbr_pred_test = best_gbr.predict(X_test)\n",
    "\n",
    "# Predict on the test set using Ridge Regression\n",
    "ridge_pred_test = best_ridge.predict(X_test)\n",
    "\n",
    "# Assuming you already have predictions for xgb_pred_test, catboost_pred_test, gbr_pred_test, and ridge_pred_test\n",
    "hybrid4_pred_test = (xgb_pred_test + catboost_pred_test + gbr_pred_test + ridge_pred_test) / 4\n",
    "\n",
    "# Calculate metrics for the hybrid model on test set\n",
    "hybrid4_rmse_test = mean_squared_error(y_test, hybrid4_pred_test, squared=False)\n",
    "hybrid4_mae_test = mean_absolute_error(y_test, hybrid4_pred_test)\n",
    "hybrid4_r2_test = r2_score(y_test, hybrid4_pred_test)\n",
    "\n",
    "# Print evaluation metrics for Hybrid Model 4\n",
    "print(\"Hybrid Model 4 (XGB + CatBoost + GBR + Ridge) RMSE (Test):\", hybrid4_rmse_test)\n",
    "print(\"Hybrid Model 4 (XGB + CatBoost + GBR + Ridge) MAE (Test):\", hybrid4_mae_test)\n",
    "print(\"Hybrid Model 4 (XGB + CatBoost + GBR + Ridge) R-squared (Test):\", hybrid4_r2_test)\n"
   ]
  },
  {
   "cell_type": "code",
   "execution_count": 41,
   "id": "9d392139",
   "metadata": {},
   "outputs": [
    {
     "name": "stdout",
     "output_type": "stream",
     "text": [
      "Hybrid Model 6 (Random Forest + LWLR) RMSE (Test): 1.3479609858752634e-15\n",
      "Hybrid Model 6 (Random Forest + LWLR) MAE (Test): 1.1092807408807792e-15\n",
      "Hybrid Model 6 (Random Forest + LWLR) R-squared (Test): 1.0\n"
     ]
    }
   ],
   "source": [
    "from sklearn.metrics import mean_squared_error, mean_absolute_error, r2_score\n",
    "\n",
    "# Assuming you have trained models: best_rf and best_lwlr\n",
    "\n",
    "# Predict on the test set using Random Forest Regressor\n",
    "rf_pred_test = best_rf.predict(X_test)\n",
    "\n",
    "# Predict on the test set using Locally Weighted Linear Regression\n",
    "lwlr_pred_test = best_lwlr.predict(X_test)\n",
    "\n",
    "# Assuming you already have predictions for rf_pred_test and lwlr_pred_test\n",
    "hybrid6_pred_test = (rf_pred_test + lwlr_pred_test) / 2\n",
    "\n",
    "# Calculate metrics for the hybrid model on test set\n",
    "hybrid6_rmse_test = mean_squared_error(y_test, hybrid6_pred_test, squared=False)\n",
    "hybrid6_mae_test = mean_absolute_error(y_test, hybrid6_pred_test)\n",
    "hybrid6_r2_test = r2_score(y_test, hybrid6_pred_test)\n",
    "\n",
    "# Print evaluation metrics for Hybrid Model 6\n",
    "print(\"Hybrid Model 6 (Random Forest + LWLR) RMSE (Test):\", hybrid6_rmse_test)\n",
    "print(\"Hybrid Model 6 (Random Forest + LWLR) MAE (Test):\", hybrid6_mae_test)\n",
    "print(\"Hybrid Model 6 (Random Forest + LWLR) R-squared (Test):\", hybrid6_r2_test)\n"
   ]
  },
  {
   "cell_type": "code",
   "execution_count": 42,
   "id": "df667184",
   "metadata": {},
   "outputs": [
    {
     "name": "stdout",
     "output_type": "stream",
     "text": [
      "Hybrid Model 7 (RF + LightGBM + CatBoost) RMSE: 0.0006179739692433224\n",
      "Hybrid Model 7 (RF + LightGBM + CatBoost) MAE: 0.0004591276352936668\n",
      "Hybrid Model 7 (RF + LightGBM + CatBoost) R-squared: 0.9999995865293272\n"
     ]
    }
   ],
   "source": [
    "from sklearn.metrics import mean_squared_error, mean_absolute_error, r2_score\n",
    "\n",
    "# Assuming you have rf_pred_val, lgb_pred_val, and catboost_pred_val\n",
    "\n",
    "# Define weights for models (you can adjust these)\n",
    "weight_rf = 0.4\n",
    "weight_lgb = 0.3\n",
    "weight_catboost = 0.3\n",
    "\n",
    "# Combine predictions\n",
    "hybrid7_pred = (weight_rf * rf_pred_val + weight_lgb * lgb_pred_val + weight_catboost * catboost_pred_val)\n",
    "\n",
    "# Evaluate the performance of Hybrid Model 7\n",
    "hybrid7_rmse = mean_squared_error(y_val, hybrid7_pred, squared=False)\n",
    "hybrid7_mae = mean_absolute_error(y_val, hybrid7_pred)\n",
    "hybrid7_r2 = r2_score(y_val, hybrid7_pred)\n",
    "\n",
    "print(\"Hybrid Model 7 (RF + LightGBM + CatBoost) RMSE:\", hybrid7_rmse)\n",
    "print(\"Hybrid Model 7 (RF + LightGBM + CatBoost) MAE:\", hybrid7_mae)\n",
    "print(\"Hybrid Model 7 (RF + LightGBM + CatBoost) R-squared:\", hybrid7_r2)\n"
   ]
  },
  {
   "cell_type": "code",
   "execution_count": 43,
   "id": "db69194f",
   "metadata": {},
   "outputs": [
    {
     "name": "stdout",
     "output_type": "stream",
     "text": [
      "Hybrid Model 8 (Stacking Ensemble with Random Forest) RMSE (Test): 0.0005429026634578862\n",
      "Hybrid Model 8 (Stacking Ensemble with Random Forest) MAE (Test): 0.0001670257488376459\n",
      "Hybrid Model 8 (Stacking Ensemble with Random Forest) R-squared (Test): 0.999999666341776\n"
     ]
    }
   ],
   "source": [
    "from sklearn.metrics import mean_squared_error, mean_absolute_error, r2_score\n",
    "\n",
    "# Assuming you have predictions for xgb_pred_test, gbr_pred_test, and lgb_pred_test\n",
    "\n",
    "# Predict on the test set using XGBoost Regressor\n",
    "xgb_pred_test = best_xgb.predict(X_test)\n",
    "\n",
    "# Predict on the test set using Gradient Boosting Regressor\n",
    "gbr_pred_test = best_gbr.predict(X_test)\n",
    "\n",
    "# Predict on the test set using LightGBM Regressor\n",
    "lgb_pred_test = best_lgb.predict(X_test)\n",
    "\n",
    "\n",
    "# Initialize the Meta-model (Random Forest Regressor)\n",
    "meta_model = RandomForestRegressor(n_estimators=100, random_state=42)\n",
    "\n",
    "# Create the training set for the meta-model\n",
    "meta_X_train = np.column_stack((xgb_pred_val, gbr_pred_val, lgb_pred_val))\n",
    "\n",
    "# Train the Meta-model\n",
    "meta_model.fit(meta_X_train, y_val)\n",
    "\n",
    "# Create the test set for the meta-model\n",
    "meta_X_test = np.column_stack((xgb_pred_test, gbr_pred_test, lgb_pred_test))\n",
    "\n",
    "# Predict using the Meta-model\n",
    "hybrid8_pred_test = meta_model.predict(meta_X_test)\n",
    "\n",
    "# Evaluate the performance of Hybrid Model 8 on the test set\n",
    "hybrid8_rmse_test = mean_squared_error(y_test, hybrid8_pred_test, squared=False)\n",
    "hybrid8_mae_test = mean_absolute_error(y_test, hybrid8_pred_test)\n",
    "hybrid8_r2_test = r2_score(y_test, hybrid8_pred_test)\n",
    "\n",
    "print(\"Hybrid Model 8 (Stacking Ensemble with Random Forest) RMSE (Test):\", hybrid8_rmse_test)\n",
    "print(\"Hybrid Model 8 (Stacking Ensemble with Random Forest) MAE (Test):\", hybrid8_mae_test)\n",
    "print(\"Hybrid Model 8 (Stacking Ensemble with Random Forest) R-squared (Test):\", hybrid8_r2_test)"
   ]
  },
  {
   "cell_type": "code",
   "execution_count": 44,
   "id": "1ae946fa",
   "metadata": {},
   "outputs": [
    {
     "name": "stdout",
     "output_type": "stream",
     "text": [
      "Weighted Average RMSE (Validation): 0.09077792548779577\n",
      "Weighted Average MAE (Validation): 0.07270036510251407\n",
      "Weighted Average R-squared (Validation): 0.991077945850652\n"
     ]
    }
   ],
   "source": [
    "from sklearn.metrics import mean_squared_error, mean_absolute_error, r2_score\n",
    "\n",
    "\n",
    "# Define weights for each model (you can adjust these)\n",
    "weights = {\n",
    "    'rf': 0.1,\n",
    "    'lwlr': 0.1,\n",
    "    'gpr': 0.1,\n",
    "    'wknn': 0.1,\n",
    "    'knn': 0.1,\n",
    "    'xgb': 0.1,\n",
    "    'catboost': 0.1,\n",
    "    'lgb': 0.1,\n",
    "    'gbr': 0.1,\n",
    "    'ridge': 0.1\n",
    "}\n",
    "\n",
    "# List of model predictions\n",
    "predictions = [\n",
    "    rf_pred_val, lwlr_pred_val, \n",
    "    gpr_pred_val, wknn_pred_val, knn_pred_val, xgb_pred_val, catboost_pred_val,\n",
    "    lgb_pred_val, gbr_pred_val, ridge_pred_val\n",
    "]\n",
    "\n",
    "# Initialize an array to store the weighted predictions\n",
    "weighted_predictions = np.zeros_like(rf_pred_val)\n",
    "\n",
    "# Combine predictions with weights\n",
    "for model_pred, weight in zip(predictions, weights.values()):\n",
    "    weighted_predictions += model_pred * weight\n",
    "\n",
    "# Calculate metrics for the weighted predictions\n",
    "weighted_rmse_val = mean_squared_error(y_val, weighted_predictions, squared=False)\n",
    "weighted_mae_val = mean_absolute_error(y_val, weighted_predictions)\n",
    "weighted_r2_val = r2_score(y_val, weighted_predictions)\n",
    "\n",
    "# Print the evaluation metrics for the weighted predictions\n",
    "print(\"Weighted Average RMSE (Validation):\", weighted_rmse_val)\n",
    "print(\"Weighted Average MAE (Validation):\", weighted_mae_val)\n",
    "print(\"Weighted Average R-squared (Validation):\", weighted_r2_val)\n"
   ]
  },
  {
   "cell_type": "markdown",
   "id": "91dd5b90",
   "metadata": {},
   "source": [
    "# Visualization"
   ]
  },
  {
   "cell_type": "code",
   "execution_count": 45,
   "id": "a8a7b568",
   "metadata": {},
   "outputs": [
    {
     "data": {
      "image/png": "[encoded data removed]",
      "text/plain": [
       "<Figure size 800x600 with 1 Axes>"
      ]
     },
     "metadata": {},
     "output_type": "display_data"
    }
   ],
   "source": [
    "import matplotlib.pyplot as plt\n",
    "\n",
    "# Assuming you already have the actual and predicted values for both models\n",
    "actual_hybrid4_test = y_test\n",
    "predicted_hybrid4_test = hybrid4_pred_test\n",
    "\n",
    "actual_hybrid5_test = y_test\n",
    "predicted_hybrid5_test = hybrid5_pred_test\n",
    "\n",
    "# Create a scatter plot for both models on the same graph\n",
    "plt.figure(figsize=(8, 6))\n",
    "\n",
    "# Scatter plot for Hybrid Model 4\n",
    "plt.scatter(actual_hybrid4_test, predicted_hybrid4_test, alpha=0.5, color='blue', label='Hybrid Model 4', marker='s', s=50)\n",
    "\n",
    "# Scatter plot for Hybrid Model 5\n",
    "plt.scatter(actual_hybrid5_test, predicted_hybrid5_test, alpha=0.5, color='red', label='Hybrid Model 5', marker='o', s=20)\n",
    "\n",
    "plt.xlabel('Actual Values (Test Set)')\n",
    "plt.ylabel('Predicted Values (Test Set)')\n",
    "plt.title('Actual vs. Predicted Values')\n",
    "plt.legend()\n",
    "plt.grid(True)\n",
    "plt.show()\n"
   ]
  },
  {
   "cell_type": "code",
   "execution_count": 46,
   "id": "58889fe3",
   "metadata": {},
   "outputs": [
    {
     "data": {
      "image/png": "[encoded data removed]",
      "text/plain": [
       "<Figure size 1000x800 with 1 Axes>"
      ]
     },
     "metadata": {},
     "output_type": "display_data"
    }
   ],
   "source": [
    "import matplotlib.pyplot as plt\n",
    "\n",
    "# Assuming you have actual and predicted values for each hybrid model\n",
    "# Replace the variables below with your actual variable names\n",
    "\n",
    "# Hybrid Model 1 (XGB + CatBoost + GBR + Ridge)\n",
    "actual_hybrid1_test = y_test\n",
    "predicted_hybrid1_test = hybrid5_pred_test  # Replace with the actual variable name\n",
    "\n",
    "# Hybrid Model 2 (GBR + CatBoost)\n",
    "actual_hybrid2_test = y_test\n",
    "predicted_hybrid2_test = hybrid4_pred_test  # Replace with the actual variable name\n",
    "\n",
    "# Hybrid Model 3 (Ridge + LWLR)\n",
    "actual_hybrid3_test = y_test\n",
    "predicted_hybrid3_test = hybrid4_pred_test  # Replace with the actual variable name\n",
    "\n",
    "# Create a scatter plot for all models on the same graph\n",
    "plt.figure(figsize=(10, 8))\n",
    "\n",
    "# Scatter plot for Hybrid Model 1\n",
    "plt.scatter(actual_hybrid1_test, predicted_hybrid1_test, alpha=0.5, color='#FF5733', edgecolors='#10A881', label='Hybrid Model 1', marker='o', s=150)\n",
    "\n",
    "# Scatter plot for Hybrid Model 2\n",
    "plt.scatter(actual_hybrid2_test, predicted_hybrid2_test, alpha=0.5, color='#2ECC71', edgecolors='#E74C3C', label='Hybrid Model 2', marker='s', s=150)\n",
    "\n",
    "# Scatter plot for Hybrid Model 3\n",
    "plt.scatter(actual_hybrid3_test, predicted_hybrid3_test, alpha=0.5, color='#FFD700', edgecolors='#9400D3', label='Hybrid Model 3', marker='D', s=150)\n",
    "\n",
    "# Scatter plot for Hybrid Model 4\n",
    "plt.scatter(actual_hybrid4_test, predicted_hybrid4_test, alpha=0.5, color='#9400D3', edgecolors='#FFD700', label='Hybrid Model 4', marker='s', s=50)\n",
    "\n",
    "# Scatter plot for Hybrid Model 5\n",
    "plt.scatter(actual_hybrid5_test, predicted_hybrid5_test, alpha=0.5, color='#F1C40F', edgecolors='#E74C3C', label='Hybrid Model 5', marker='o', s=20)\n",
    "\n",
    "\n",
    "\n",
    "# Scatter plot for Hybrid Model 1\n",
    "plt.scatter(actual_hybrid1_test, predicted_hybrid1_test, alpha=0.5, color='#FF5733', edgecolors='#10A881', label='Hybrid Model 1', marker='o', s=150)\n",
    "\n",
    "# Scatter plot for Hybrid Model 2\n",
    "plt.scatter(actual_hybrid2_test, predicted_hybrid2_test, alpha=0.5, color='#2ECC71', edgecolors='#E74C3C', label='Hybrid Model 2', marker='s', s=150)\n",
    "\n",
    "# Scatter plot for Hybrid Model 3\n",
    "plt.scatter(actual_hybrid3_test, predicted_hybrid3_test, alpha=0.5, color='#FFD700', edgecolors='#9400D3', label='Hybrid Model 3', marker='D', s=150)\n",
    "\n",
    "# Scatter plot for Hybrid Model 4\n",
    "plt.scatter(actual_hybrid4_test, predicted_hybrid4_test, alpha=0.5, color='#9400D3', edgecolors='#FFD700', label='Hybrid Model 4', marker='s', s=50)\n",
    "\n",
    "# Scatter plot for Hybrid Model 5\n",
    "plt.scatter(actual_hybrid5_test, predicted_hybrid5_test, alpha=0.5, color='#F1C40F', edgecolors='#E74C3C', label='Hybrid Model 5', marker='o', s=20)\n",
    "\n",
    "plt.xlabel('Actual Values (Test Set)')\n",
    "plt.xlabel('Actual Values (Test Set)')\n",
    "plt.ylabel('Predicted Values (Test Set)')\n",
    "plt.title('Actual vs. Predicted Values')\n",
    "plt.legend()\n",
    "plt.grid(True)\n",
    "plt.show()\n"
   ]
  },
  {
   "cell_type": "code",
   "execution_count": 47,
   "id": "54475d7f",
   "metadata": {},
   "outputs": [
    {
     "data": {
      "image/png": "[encoded data removed]",
      "text/plain": [
       "<Figure size 1000x800 with 1 Axes>"
      ]
     },
     "metadata": {},
     "output_type": "display_data"
    }
   ],
   "source": [
    "import matplotlib.pyplot as plt\n",
    "\n",
    "# Assuming you have actual and predicted values for each hybrid model\n",
    "# Replace the variables below with your actual variable names\n",
    "\n",
    "# Hybrid Model 1 (XGB + CatBoost + GBR + Ridge)\n",
    "actual_hybrid1_test = y_test\n",
    "predicted_hybrid1_test = hybrid5_pred_test  # Replace with the actual variable name\n",
    "\n",
    "# Hybrid Model 2 (GBR + CatBoost)\n",
    "actual_hybrid2_test = y_test\n",
    "predicted_hybrid2_test = hybrid4_pred_test  # Replace with the actual variable name\n",
    "\n",
    "# Hybrid Model 3 (Ridge + LWLR)\n",
    "actual_hybrid3_test = y_test\n",
    "predicted_hybrid3_test = hybrid4_pred_test  # Replace with the actual variable name\n",
    "\n",
    "# Create a scatter plot for all models on the same graph\n",
    "plt.figure(figsize=(10, 8))\n",
    "\n",
    "# Scatter plot for Hybrid Model 1\n",
    "plt.scatter(actual_hybrid1_test, predicted_hybrid1_test, alpha=0.5, color='#800080', edgecolors='#10A881', label='Hybrid Model 1', marker='o', s=150)\n",
    "\n",
    "# Scatter plot for Hybrid Model 2\n",
    "plt.scatter(actual_hybrid2_test, predicted_hybrid2_test, alpha=0.5, color='#2ECC71', edgecolors='#E74C3C', label='Hybrid Model 2', marker='s', s=150)\n",
    "\n",
    "# Scatter plot for Hybrid Model 3\n",
    "plt.scatter(actual_hybrid3_test, predicted_hybrid3_test, alpha=0.5, color='#FFD700', edgecolors='#9400D3', label='Hybrid Model 3', marker='D', s=150)\n",
    "\n",
    "# Scatter plot for Hybrid Model 4\n",
    "plt.scatter(actual_hybrid4_test, predicted_hybrid4_test, alpha=0.5, color='#9400D3', edgecolors='#FFD700', label='Hybrid Model 4', marker='s', s=50)\n",
    "\n",
    "# Scatter plot for Hybrid Model 5\n",
    "plt.scatter(actual_hybrid5_test, predicted_hybrid5_test, alpha=0.5, color='#F1C40F', edgecolors='#E74C3C', label='Hybrid Model 5', marker='o', s=20)\n",
    "\n",
    "\n",
    "\n",
    "# Scatter plot for Hybrid Model 1\n",
    "plt.scatter(actual_hybrid1_test, predicted_hybrid1_test, alpha=0.5, color='#00FFFF', edgecolors='#DE3163', label='Hybrid Model 1', marker='o', s=150)\n",
    "\n",
    "# Scatter plot for Hybrid Model 2\n",
    "plt.scatter(actual_hybrid2_test, predicted_hybrid2_test, alpha=0.5, color='#FF0000', edgecolors='#FF7F50', label='Hybrid Model 2', marker='s', s=150)\n",
    "\n",
    "# Scatter plot for Hybrid Model 3\n",
    "plt.scatter(actual_hybrid3_test, predicted_hybrid3_test, alpha=0.5, color='#FFD700', edgecolors='#6495ED', label='Hybrid Model 3', marker='D', s=150)\n",
    "\n",
    "# Scatter plot for Hybrid Model 4\n",
    "plt.scatter(actual_hybrid4_test, predicted_hybrid4_test, alpha=0.5, color='#00FF00', edgecolors='#DFFF00', label='Hybrid Model 4', marker='s', s=50)\n",
    "\n",
    "# Scatter plot for Hybrid Model 5\n",
    "plt.scatter(actual_hybrid5_test, predicted_hybrid5_test, alpha=0.5, color='#FF00FF', edgecolors='#F08080', label='Hybrid Model 5', marker='o', s=20)\n",
    "\n",
    "plt.xlabel('Actual Values (Test Set)')\n",
    "plt.xlabel('Actual Values (Test Set)')\n",
    "plt.ylabel('Predicted Values (Test Set)')\n",
    "plt.title('Actual vs. Predicted Values')\n",
    "plt.legend()\n",
    "plt.grid(True)\n",
    "plt.show()\n"
   ]
  },
  {
   "cell_type": "code",
   "execution_count": null,
   "id": "d8feeaf0",
   "metadata": {},
   "outputs": [],
   "source": []
  }
 ],
 "metadata": {
  "kernelspec": {
   "display_name": "Python 3 (ipykernel)",
   "language": "python",
   "name": "python3"
  },
  "language_info": {
   "codemirror_mode": {
    "name": "ipython",
    "version": 3
   },
   "file_extension": ".py",
   "mimetype": "text/x-python",
   "name": "python",
   "nbconvert_exporter": "python",
   "pygments_lexer": "ipython3",
   "version": "3.10.9"
  }
 },
 "nbformat": 4,
 "nbformat_minor": 5
}
